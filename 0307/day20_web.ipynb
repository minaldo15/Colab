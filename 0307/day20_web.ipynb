{
 "cells": [
  {
   "cell_type": "code",
   "execution_count": null,
   "metadata": {},
   "outputs": [],
   "source": []
  },
  {
   "attachments": {},
   "cell_type": "markdown",
   "metadata": {},
   "source": [
    "# WEB\n",
    "- HTML\n",
    "- CSS\n",
    "\n",
    "## 웹페이지 구성요소\n",
    "- HTML: 구조(레이아웃)\n",
    "- HTML + CSS: 표현(스타일링)\n",
    "- HTML + CSS + JS: 동작(인터렉션)\n",
    "\n",
    "## HTML\n",
    "- Hyper Text Markup Language\n",
    "- 참조(하이퍼링크)를 통해 사용자가 한 문서에서 다른 문서로 즉시 접근할 수 있는 텍스트\n",
    "- Markup Language\n",
    "  - 태그 등을 이용하여 문서나 데이터의 구조를 명시하는 언어\n",
    "    - 대표적인 예 - HTML, Markdown\n",
    "- 웹 페이지를 작성(구조화) 하기 위한 언어\n",
    "\n",
    "### HTML 기본 구조\n",
    "- html: 문서의 최상위(root) 요소\n",
    "- head: 문서 메타데이터 요소\n",
    "  - 문서 제목, 인코딩, 스타일, 외부 파일 로딩 등\n",
    "  - 일반적으로 브라우저에 나타나지 않는 내용\n",
    "- body: 문서 본문 요소\n",
    "  - 실제 화면 구성과 관련된 내용\n",
    "\n",
    "### head 예시\n",
    "- <title>: 브라우저 상단 타이틀\n",
    "- <link>: 외부 리소스 연결 요소(CSS 파일 등)\n",
    "- <style>: CSS 직접 작성"
   ]
  },
  {
   "cell_type": "code",
   "execution_count": null,
   "metadata": {
    "vscode": {
     "languageId": "html"
    }
   },
   "outputs": [],
   "source": [
    "<head>\n",
    "  <title>HTML 수업</title>\n",
    "  <meta charset=\"UTF-8\">\n",
    "  <link href=\"style.css\" rel=\"stylesheet\">\n",
    "  <script src=\"javascript.js\"></script>\n",
    "  <style>\n",
    "    p {\n",
    "      color: black;\n",
    "    }\n",
    "  </style>  \n",
    "</head>"
   ]
  },
  {
   "attachments": {},
   "cell_type": "markdown",
   "metadata": {},
   "source": [
    "### 요소(element)\n",
    "- 여는태그와 닫는태그\n",
    "- <h1>contents</h1>\n",
    "- 정의\n",
    "  - HTML 요소는 시작 태그와 종료 태그 그리고 태그 사이에 위치한 내용으로 구성\n",
    "    - 태그는 컨텐츠를 감싸는 것으로 그 정보의 성격과 의미를 정의\n",
    "  - 내용이 없는 태그들\n",
    "    - br, hr, img, input, link, meta\n",
    "  - 요소는 중첩(nested)될 수 있음\n",
    "    - 요소의 중첩을 통해 하나의 문서를 구조화\n",
    "    - 여는 태그와 닫는 태그의 쌍을 잘 확인해야함\n",
    "      - 오류를 반환하는 것이 아닌 그냥 레이아웃이 깨진 상태로 출력되기 때문에, 디버깅이 힘들어질 수 있음\n",
    "\n",
    "### 속성(attribute)\n",
    "- <a href=\"https://google.com\"></a>\n",
    "  - 속성명과 속성값\n",
    "  - 각 태그별로 사용할 수 있는 속성이 다르다\n",
    "- 속성 작성 방식 통일하기\n",
    "  - 공백 X, \"\"(쌍따옴표) 사용\n",
    "- 정의\n",
    "  - 속성을 통해 태그의 부가적인 정보를 설정할 수 있음\n",
    "  - 요소는 속성을 가질 수 있으며, 경로나 크기와 같은 추가적인 정보를 제공\n",
    "  - 요소의 시작 태그에 작성하며 보통 이름과 값이 하나의 쌍으로 존재\n",
    "  - 태그와 상관없이 사용 가능한 속성(HTML Global Attribute)들도 있음\n",
    "- HTML Global Attribute\n",
    "  - id: 문서 전체에서 유일한 고유 식별자 지정\n",
    "  - class: 공백으로 구분된 해당 요소의 클래스의 목록(CSS, JS에서 요소를 선택하거나 접근)\n",
    "  - style: inline 스타일\n"
   ]
  },
  {
   "attachments": {},
   "cell_type": "markdown",
   "metadata": {},
   "source": [
    "### HTML 문서 구조화\n",
    "- 인라인/블록 요소\n",
    "- 텍스트 요소\n",
    "  - <a: href 속성을 활용하여 다른 URL로 연결하는 하이퍼링크 생성\n",
    "  - <b: 굵은 글씨 요소/<strong: 중요한 강조하고자 하는 요소(보통 굵은 글씨)\n",
    "  - <i: 기울임 글씨 요소/<em:중요한 강조하고자 하는 요소(보통 기울임 글씨)\n",
    "  - <br: 텍스트 내에 줄 바꿈 생성\n",
    "  - <img: src 속성을 활용하여 이미지 표현\n",
    "  - <span: 의미 없는 인라인 컨테이너\n",
    "- 그룹 컨텐츠\n",
    "  - <p: 하나의 문단\n",
    "  - <hr: 주제를 분리하기 위한 수평선\n",
    "  - <div: 의미 없는 블록 레벨 컨테이너\n",
    "- <form: 사용자의 정보(데이터)를 제출하기 위한 영역\n",
    "  - <input: 다양한 타입을 가지는 입력 데이터 유형과 위젯이 제공됨\n",
    "\n",
    "### input\n",
    "- input label\n",
    "  - label을 클릭하여 input 자체의 초점을 맞추거나 활성화 시킬 수 있음\n",
    "    - 사용자는 선택할 수 있는 영역이 늘어나 웹/ 모바일(터치) 환경에서 편하게 사용할 수 있음\n",
    "  - <input에 `id`속성을, <label에는 `for` 속성을 활용하여 상호 연관을 시킴(일치)\n",
    "\n",
    "\n",
    "- input 유형 - 일반\n",
    "  - 일반적으로 입력을 받기 위하여 제공되며 type으로 HTML기본 검증 혹은 추가 속성을 활용할 수 있음\n",
    "    - text\n",
    "    - password\n",
    "    - email\n",
    "    - number\n",
    "    - file\n",
    "\n",
    "\n",
    "- input 유형 - 항복 중 선택\n",
    "  - label로 선택에 대한 내용을 작성하고, 항복으로 선택할 수 있는 input을 제공\n",
    "  - 동일한 범주에 속하는 항목들은 name을 통일하고, 선택된 항목의 값은 value로 지정함\n",
    "    - checkbox: 다중 선택\n",
    "    - radio: 단일 선택\n",
    "\n",
    "\n",
    "### 마크업 해보기\n",
    "- 구조\n",
    "  1. header\n",
    "  2. section\n",
    "  3. footer"
   ]
  },
  {
   "cell_type": "code",
   "execution_count": null,
   "metadata": {
    "vscode": {
     "languageId": "html"
    }
   },
   "outputs": [],
   "source": [
    "<label for=\"agreemnt\">개인정보 수집에 동의합니다.</label>\n",
    "<input type=\"check\" name=\"agreement\" id=\"agreement\">"
   ]
  },
  {
   "attachments": {},
   "cell_type": "markdown",
   "metadata": {},
   "source": [
    "## CSS\n",
    "- CSS 구문은 선택자를 통해 스타일을 지정할 HTML 요소를 선택\n",
    "- 중괄호 안에서는 속성과 값, 하나의 쌍으로 이루어진 선언을 진행\n",
    "- 각 쌍은 선택한 요소의 속성, 속성에 부여할 값을 의미.\n",
    "  - 속성: 어떤 스타일 기능을 변경할지 결정\n",
    "  - 값: 어떻게 스타일 기능을 변경할지 결정\n",
    "\n",
    "- CSS 정의 방법\n",
    "  - 인라인\n",
    "  - 내부 참조 - <style\n",
    "  - 외부 참조 - 분리된 CSS 파일\n",
    "\n",
    "- CSS with 개발자 도구\n",
    "  - styles: 해당 요소에 선언된 모든 CSS\n",
    "  - computed: 해당 요소에 최종 계산된 CSS\n",
    "\n",
    "## CSS Selectors\n",
    "- 기본 선택자\n",
    "  - 전체 선택자(*), 요소(tag) 선택자\n",
    "  - 클래스 선택자(.), 아이디 선택자(#), 속성 선택자\n",
    "- 결합자\n",
    "  - 자손 결합자(모든 자식), 자식 결합자(선택자식 >)\n",
    "\n",
    "### CSS 선택자 정리\n",
    "- 요소 선택자\n",
    "  - HTML 태그를 직접 선택\n",
    "- 클래스 선택자\n",
    "  - 마침표(.)문자로 시작하며, 해당 클래스가 적용된 항목을 선택\n",
    "- 아이디 선택자\n",
    "  - (#) 문자로 시작하며, 해당 아이디가 적용된 항목을 선택\n",
    "  - 일반적으로 하나의 문서에 1번만 사용. 여러번 사용해도 동작하지만, 단일 id를 사용하는 것을 권장\n",
    "\n",
    "### CSS 적용 우선순위\n",
    "1. 중요도 - 사용시 주위\n",
    "  - !important\n",
    "2. 우선 순위\n",
    "  - 인라인 > id > class 속성 > 요소\n",
    "\n",
    "### CSS 상속\n",
    "- CSS 상속을 통해 부모 요소의 속성을 자식에게 상속한다.\n",
    "  - 속성(프로퍼티) 중에는 상속이 되는 것과 되지 않는 것들이 있다.\n"
   ]
  },
  {
   "cell_type": "code",
   "execution_count": null,
   "metadata": {
    "vscode": {
     "languageId": "html"
    }
   },
   "outputs": [],
   "source": [
    "<body>\n",
    "  <h1 class=\"green\">SSAFY</h1>\n",
    "  <h2>선택자 연습</h2>\n",
    "  <div class=\"green box\">\n",
    "    box contents\n",
    "    <div>\n",
    "      <p>지역 목록</p>\n",
    "      <ul>\n",
    "        <li>서울</li>\n",
    "        <li id=\"purple\">인천</li>\n",
    "        <li>강원</li>\n",
    "        <li>경기</li>\n",
    "      </ul>\n",
    "    </div>\n",
    "    <p>lorem + tab: 랜덤한 문자열 자동 생성!</p>\n",
    "  </div>\n",
    "  <h3>HELLO</h3>\n",
    "  <h4>CSS</h4>\n",
    "</body>"
   ]
  }
 ],
 "metadata": {
  "kernelspec": {
   "display_name": "Python 3",
   "language": "python",
   "name": "python3"
  },
  "language_info": {
   "name": "python",
   "version": "3.9.13"
  },
  "orig_nbformat": 4
 },
 "nbformat": 4,
 "nbformat_minor": 2
}
