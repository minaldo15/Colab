{
 "cells": [
  {
   "attachments": {},
   "cell_type": "markdown",
   "metadata": {},
   "source": [
    "## 계산기1\n",
    "- 문자열 수식 계산의 일반적 방법\n",
    "  - 1. 중위 표기법의 수식을 후위 표기법으로 변경(스택 이용)\n",
    "  - 2. 후위 표기법의 수식을 스택을 이용하여 계산\n",
    "- 변환 알고리즘\n",
    "  - 1. 중위 표기식에서 토큰을 읽는다\n",
    "  - 2. 토큰이 피연산자이면 토큰을 출력한다\n",
    "  - 3. 토큰이 연산자(괄호포함)일 때, 이 토큰이 스택의 top에 저장되어 있는 연산자보다 우선순위가 높으면 스택에 push하고, 그렇지 않으면 스택 top의 연산자의 우선순위가 보다 낮아질 때까지 스택에서 pop한 후 상대적으로 우선순위가 높아진 토큰의 연산자를 push한다. 만약 top에 연산자가 없으면 push한다.\n",
    "  - 4. 토큰이 오른쪽 괄호면 top에 왼쪽 괄호가 올 때까지 스택을 pop하고 pop한 연산자를 출력. 왼쪽 괄호를 만나면 pop만하고 버림\n",
    "  - 5. 중위 표기식에 더 읽을 것이 없다면 중지, 읽을 것 있으면 1부터 다시 반복\n",
    "  - 6. 스택에 남아 있는 연산자를 모두 pop하여 출력"
   ]
  },
  {
   "attachments": {},
   "cell_type": "markdown",
   "metadata": {},
   "source": [
    "## 계산기2\n",
    "- 후위 표기법의 수식을 스택을 이용하여 계산\n",
    "- 1. 피연산자를 만나면 스택에 push한다.\n",
    "- 2. 연산자를 만나면 필요한 만큼의 피연산자를 스택에서 pop하여 연산하고, 연산결과를 다시 스택에 push한다.\n",
    "- 3. 수식이 끝나면, 마지막으로 스택을 pop하여 출력한다."
   ]
  },
  {
   "attachments": {},
   "cell_type": "markdown",
   "metadata": {},
   "source": [
    "## 백트래킹(Backtracking)\n",
    "- 해를 찾는 도중에 '막히면' (즉, 해가 아니면)되돌아가서 다시 해를 찾아 가는 기법\n",
    "- 백트래킹 기법은 최적화(`optimization`) 문제와 결정(`decision`) 문제를 해결할 수 있다.\n",
    "- 결정 문제: 문제의 조건을 만족하는 해가 존재하는지의 여부를 'yes'또는 'no'가 답하는 문제\n",
    "  - 미로 찾기\n",
    "  - n-Queen\n",
    "  - Map coloring\n",
    "  - 부분 집합의 합(Subset Sum) 문제 등\n",
    "- 백트래킹과 깊이우선탐색과의 차이\n",
    "  - 어떤 노드에서 출발하는 경로가 해결책으로 이어질 것 같지 않으면 더 이상 그 경로를 따라가지 않음으로써 시도의 쇳수를 줄임.(`Prunning` 가지치기)\n",
    "  - 깊이우선탐색이 모든 경로를 추적하는데 비해 백트래킹은 불필요한 경로를 조기에 차단\n",
    "  - 깊이우선탐색을 가하기에는 경우의 수가 너무나 많음. 즉, N! 가지의 경우의 수를 가진 문제에 대해 깊이우선탐색을 가하면 당연히 처리 불가능\n",
    "  - 백트래킹 알고리즘을 적용하면 일반적으로 경우의 수가 줄어들지만 이 역시 최악의 경우에는 여전히 지수함수 시간(Exponential Time)을 요하므로 처리 불가능"
   ]
  },
  {
   "attachments": {},
   "cell_type": "markdown",
   "metadata": {},
   "source": [
    "### 미로 찾기"
   ]
  },
  {
   "attachments": {},
   "cell_type": "markdown",
   "metadata": {},
   "source": [
    "### 부분집합 구하기\n"
   ]
  },
  {
   "cell_type": "code",
   "execution_count": null,
   "metadata": {},
   "outputs": [],
   "source": [
    "# a = {1,2,3,4,5,6,7,8,9,10}"
   ]
  },
  {
   "cell_type": "code",
   "execution_count": null,
   "metadata": {},
   "outputs": [],
   "source": [
    "# 순열 생성\n",
    "for i1 in range(1, 4):\n",
    "    for i2 in range(1, 4):\n",
    "        if i2 != i1:\n",
    "            for i3 in range(1, 4):\n",
    "                if i3 != i1 and i3 != i2:\n",
    "                    print(i1, i2, i3)"
   ]
  },
  {
   "cell_type": "code",
   "execution_count": 8,
   "metadata": {},
   "outputs": [
    {
     "name": "stdout",
     "output_type": "stream",
     "text": [
      "[0, 0, 0]\n",
      "[0, 0, 1]\n",
      "[0, 1, 0]\n",
      "[0, 1, 1]\n",
      "[1, 0, 0]\n",
      "[1, 0, 1]\n",
      "[1, 1, 0]\n",
      "[1, 1, 1]\n"
     ]
    }
   ],
   "source": [
    "def f(i, k):\n",
    "    if i == k:\n",
    "        print(bit)\n",
    "    else:\n",
    "        bit[i] = 0\n",
    "        f(i+1, k)\n",
    "        bit[i] = 1\n",
    "        f(i+1, k)\n",
    "        \n",
    "    \n",
    "\n",
    "\n",
    "A = {1,2,3}\n",
    "N = len(A)\n",
    "bit = [0] * N\n",
    "f(0, N)"
   ]
  },
  {
   "cell_type": "code",
   "execution_count": null,
   "metadata": {},
   "outputs": [],
   "source": [
    "# 백트래킹을 이용한 순열 구하기\n",
    "def backtrack(a, k, input):\n",
    "    global MAXCANDIDATES\n",
    "    c = [0] * MAXCANDIDATES\n",
    "\n",
    "    if k == input:\n",
    "        for i in range(1, k + 1):\n",
    "            print(a[i], end=\" \")\n",
    "        print()\n",
    "    else:\n",
    "        k += 1\n",
    "        ncandidates = construct_candidates(a, k, input, c)\n",
    "        for i in range(ncandidates):\n",
    "            a[k] = c[i]\n",
    "            backtrack(a, k, input)\n",
    "\n",
    "\n",
    "def construct_candidates(a, k, input, c):\n",
    "    in_perm = [False] * NMAX\n",
    "\n",
    "    for i in range(1, k):\n",
    "        in_perm[a[i]] = True\n",
    "\n",
    "    ncandidates = 0\n",
    "    for i in range(1, input + 1):\n",
    "        if in_perm[i] == False:\n",
    "            c[ncandidates] = i\n",
    "            ncandidates += 1\n",
    "    return ncandidates\n",
    "\n",
    "NMAX = 11\n",
    "MAXCANDIDATES = 10\n",
    "a = [0] * NMAX\n",
    "backtrack(a, 0, 3)"
   ]
  },
  {
   "cell_type": "code",
   "execution_count": null,
   "metadata": {},
   "outputs": [],
   "source": [
    "dir = [0,1,2,3]\n",
    "print(dir.pop(1))"
   ]
  }
 ],
 "metadata": {
  "kernelspec": {
   "display_name": "Python 3",
   "language": "python",
   "name": "python3"
  },
  "language_info": {
   "codemirror_mode": {
    "name": "ipython",
    "version": 3
   },
   "file_extension": ".py",
   "mimetype": "text/x-python",
   "name": "python",
   "nbconvert_exporter": "python",
   "pygments_lexer": "ipython3",
   "version": "3.9.13"
  },
  "orig_nbformat": 4,
  "vscode": {
   "interpreter": {
    "hash": "c4b9ebf4ca459396e2ad1150752490c26670c1a037c08cad955a4425787bec2e"
   }
  }
 },
 "nbformat": 4,
 "nbformat_minor": 2
}
