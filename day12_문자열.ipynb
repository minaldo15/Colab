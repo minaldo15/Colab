{
 "cells": [
  {
   "attachments": {},
   "cell_type": "markdown",
   "metadata": {},
   "source": [
    "## 문자의 표현\n",
    "- 컴퓨터에서의 문자표현\n",
    "  - 영어는 알파벳이 대소문자 합쳐서 52개 이므로 6(64가지)비트면 모두 표현할 수 있다. 이를 코드체계라고 한다.\n",
    "  - 표준 코드체계 지정 - 아스키 코드(ASCII): 7비트, 128문자\n",
    "  - 다국어 처리 표준 - 유니코드\n",
    "    - 바이트 순서에 대해 표준화하지 못했음\n",
    "    - UCS-2, UCS-4 각 경우를 구분해서 모두 다르게 구현해야 하는 문제 발생\n",
    "    - 적당한 외부 인코딩 필요\n",
    "\n",
    "## 문자열\n",
    "- 파이썬에서의 문자열 처리\n",
    "  - char 타입 없음\n",
    "  - 텍스트 데이터의 취급방법이 통일되어 있음\n",
    "  - 시퀀스 자료형으로 인덱스, 슬라이싱 연산들 사용 가능\n",
    "  - 튜플과 같이 요소값을 변경 할 수 없음(immutable)\n",
    "- 문자열 뒤집기\n",
    "- 문자열 비교\n",
    "- 문자열 정수로 변환"
   ]
  },
  {
   "cell_type": "code",
   "execution_count": 5,
   "metadata": {},
   "outputs": [
    {
     "name": "stdout",
     "output_type": "stream",
     "text": [
      "dcba"
     ]
    }
   ],
   "source": [
    "# 문자열 뒤집기\n",
    "s = 'abcd'\n",
    "for a in s[::-1]:\n",
    "    print(''.join(a),end='')"
   ]
  },
  {
   "cell_type": "code",
   "execution_count": null,
   "metadata": {},
   "outputs": [],
   "source": [
    "# 문자열 비교\n",
    "s1 = 'abc'\n",
    "s2 = 'abc'\n",
    "s3 = 'def'\n",
    "s4 = s1\n",
    "s5 = s1[:2] + 'c'\n",
    "print(s1 == s2)\n",
    "print(s1 is s2)\n",
    "print(s1 == s4)\n",
    "print(s1 is s4)\n",
    "print(s2 == s4)\n",
    "print(s2 is s4)\n",
    "print(s1 == s5)\n",
    "print(s1 is s5)\n"
   ]
  },
  {
   "cell_type": "code",
   "execution_count": 13,
   "metadata": {},
   "outputs": [
    {
     "name": "stdout",
     "output_type": "stream",
     "text": [
      "123\n"
     ]
    }
   ],
   "source": [
    "# int()와 같은 atoi()함수 만들기\n",
    "def atoi(s):\n",
    "    i = 0\n",
    "    for x in s:\n",
    "        i = i*10 + ord(x) - ord('0')\n",
    "    return i\n",
    "print(atoi('123'))"
   ]
  },
  {
   "cell_type": "code",
   "execution_count": 10,
   "metadata": {},
   "outputs": [
    {
     "name": "stdout",
     "output_type": "stream",
     "text": [
      "48\n",
      "123\n",
      "-123\n"
     ]
    }
   ],
   "source": [
    "# str()와 같은 itoa()함수 만들기\n",
    "def itoa(x):\n",
    "    s = []\n",
    "    if x < 0:\n",
    "        x = abs(x) \n",
    "        while True:\n",
    "            c = x % 10\n",
    "            s.append(chr(c + ord('0')))\n",
    "            x = x//10\n",
    "            if x == 0:\n",
    "                break\n",
    "        s.reverse()\n",
    "        return '-' + ''.join(s)\n",
    "    else:\n",
    "        while True:\n",
    "            c = x % 10\n",
    "            s.append(chr(c + ord('0')))\n",
    "            x = x//10\n",
    "            if x == 0:\n",
    "                break\n",
    "        s.reverse()\n",
    "        return ''.join(s)\n",
    "print(ord('0'))\n",
    "print(itoa(123))\n",
    "print(itoa(-123))\n",
    "\n",
    "\n",
    "\n"
   ]
  },
  {
   "attachments": {},
   "cell_type": "markdown",
   "metadata": {},
   "source": [
    "## 패턴 매칭\n",
    "  - 고지식한 패턴 검색 알고리즘\n",
    "  - 카프-라빈 알고리즘\n",
    "  - KMP 알고리즘\n",
    "  - 보이어-무어 알고리즘"
   ]
  },
  {
   "attachments": {},
   "cell_type": "markdown",
   "metadata": {},
   "source": [
    "### 고지식한 알고리즘(Brute Force)\n",
    "- 본문 문자열을 처음부터 끝까지 차례대로 순회하면서 패턴 내의 문자들을 일일이 비교하는 방식으로 동작\n",
    "- 시간 복잡도\n",
    "  - 최악의 경우 O(MN)\n",
    "  - M: 찾고자 하는 문자열 패턴의 길이, N: 총 문자열의 길이"
   ]
  },
  {
   "cell_type": "code",
   "execution_count": 55,
   "metadata": {},
   "outputs": [
    {
     "name": "stdout",
     "output_type": "stream",
     "text": [
      "2\n"
     ]
    }
   ],
   "source": [
    "p = 'is'\n",
    "t = 'This is a book~!'\n",
    "M = len(p)\n",
    "N = len(t)\n",
    "\n",
    "def BruteForce(p, t):\n",
    "    i = 0   # t의 인덱스\n",
    "    j = 0   # p의 인덱스\n",
    "    while j < M and i < N:\n",
    "        if t[i] != p[j]:\n",
    "            i = i - j\n",
    "            j = -1\n",
    "        i += 1\n",
    "        j += 1\n",
    "    if j == M: return i - M # i = 4, M = 2 인덱스 2에서 일치\n",
    "    else: return -1 # 검색 실패\n",
    "print(BruteForce(p, t))"
   ]
  },
  {
   "attachments": {},
   "cell_type": "markdown",
   "metadata": {},
   "source": [
    "### KMP 알고리즘\n",
    "- 불일치가 발생한 텍스트 스트링의 앞 부분에 어떤 문자가 있는지를 미리 알고 있으므로, 불일치가 발생한 앞 부분에 대하여 다시 비교하지 않고 매칭을 수행\n",
    "- 패턴을 전처리하여 배열 next[M]을 구해서 잘못된 시작을 최소화 (next[M]: 불일치가 발생한 경우 이동할 다음 위치)\n",
    "- 시간 복잡도: O(M + N)"
   ]
  },
  {
   "cell_type": "code",
   "execution_count": null,
   "metadata": {},
   "outputs": [],
   "source": [
    "M = len(p)\n",
    "lps = [0] * (M+1)\n",
    "# preprocessing\n",
    "j = 0 # 일치한 개수== 비교할 패턴 위치\n",
    "lps[0] = -1\n",
    "for i in range(1, M):\n",
    "    lps[i] = j          # p[i]이전에 일치한 개수\n",
    "    if p[i] == p[j]:\n",
    "        j += 1\n",
    "    else:\n",
    "        j = 0\n",
    "lps[M] = j\n",
    "# search\n",
    "i = 0   # 비교할 텍스트 위치\n",
    "j = 0   # 비교할 패턴 위치\n",
    "while i < N and j <= M:\n",
    "    if j==-1 or t[i]== p[j]:     # 첫글자자 불일치했거나, 일치하면\n",
    "        i += 1\n",
    "        j += 1\n",
    "    else:               # 불일치\n",
    "        j = lps[j]\n",
    "    if j==M:    # 패턴을 찾을 경우\n",
    "        print(i-M, end = ' ')    # 패턴의 인덱스 출력\n",
    "        j = lps[j]\n",
    "\n",
    "    print()\n",
    "    return\n",
    "\n",
    "\n",
    "t = 'zzzabcdabcdabcefabcd'\n",
    "p = 'abcdabcef'\n",
    "kmp(t, p)\n",
    "t = 'AABAACAADAABAABA'\n",
    "p = 'AABA'\n",
    "kmp(t, p)\n",
    "t = \"AAAAABAAABA\"\n",
    "p =  \"AAAA\"\n",
    "kmp(t, p)\n",
    "t = \"AAAAABAAABA\"\n",
    "p =  \"AA\"\n",
    "kmp(t, p)"
   ]
  },
  {
   "attachments": {},
   "cell_type": "markdown",
   "metadata": {},
   "source": [
    "### 보이어-무어 알고리즘\n",
    "- 패턴의 오른쪽부터 비교\n",
    "- 대부분의 상용 소프트웨어에서 채택\n",
    "- 패턴에 오른쪽 끝에 있는 문자가 불일치 한 경우\n",
    "  - 이 문자가 패턴 내에 존재하지 않으면 패턴의 길이만큼 이동하고\n",
    "  - 이 문자가 패턴 내에 존재할 경우 패턴에서 일치하는 문자만큼 이동\n",
    "- 시간 복잡도\n",
    "  - 최악의 경우 O(MN)이지만 일반적으로 O(N)보다 짧음\n",
    "  "
   ]
  },
  {
   "attachments": {},
   "cell_type": "markdown",
   "metadata": {},
   "source": [
    "## 문자열 암호화\n",
    "- 시저 암호\n",
    "- 단일 치환 암호\n",
    "- bit열의 암호화"
   ]
  },
  {
   "attachments": {},
   "cell_type": "markdown",
   "metadata": {},
   "source": [
    "## 문자열 압축\n",
    "- Run-length encoding 알고리즘\n",
    "  - 같은 값이 몇 번 반복되는가\n",
    "  - ABBBBBBBBA -> A1B8A1\n",
    "  - BMP 파일포맷의 압축 방법\n",
    "- 많이 사용하는 알고리즘으로 허프만 코딩 알고리즘이 있음"
   ]
  },
  {
   "cell_type": "code",
   "execution_count": 2,
   "metadata": {},
   "outputs": [
    {
     "name": "stdout",
     "output_type": "stream",
     "text": [
      "['a']\n"
     ]
    }
   ],
   "source": [
    "lst = []\n",
    "lst.append('a')\n",
    "print(lst)"
   ]
  }
 ],
 "metadata": {
  "kernelspec": {
   "display_name": "Python 3",
   "language": "python",
   "name": "python3"
  },
  "language_info": {
   "codemirror_mode": {
    "name": "ipython",
    "version": 3
   },
   "file_extension": ".py",
   "mimetype": "text/x-python",
   "name": "python",
   "nbconvert_exporter": "python",
   "pygments_lexer": "ipython3",
   "version": "3.9.13"
  },
  "orig_nbformat": 4,
  "vscode": {
   "interpreter": {
    "hash": "c4b9ebf4ca459396e2ad1150752490c26670c1a037c08cad955a4425787bec2e"
   }
  }
 },
 "nbformat": 4,
 "nbformat_minor": 2
}
