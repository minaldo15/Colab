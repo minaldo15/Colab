{
  "nbformat": 4,
  "nbformat_minor": 0,
  "metadata": {
    "colab": {
      "provenance": [],
      "toc_visible": true,
      "authorship_tag": "ABX9TyP3QVJqHkC2RWlAuqELnB9y",
      "include_colab_link": true
    },
    "kernelspec": {
      "name": "python3",
      "display_name": "Python 3"
    },
    "language_info": {
      "name": "python"
    }
  },
  "cells": [
    {
      "cell_type": "markdown",
      "metadata": {
        "id": "view-in-github",
        "colab_type": "text"
      },
      "source": [
        "<a href=\"https://colab.research.google.com/github/minaldo15/Colab/blob/main/%EC%82%AC%EC%A0%84%ED%95%99%EC%8A%B5.ipynb\" target=\"_parent\"><img src=\"https://colab.research.google.com/assets/colab-badge.svg\" alt=\"Open In Colab\"/></a>"
      ]
    },
    {
      "cell_type": "code",
      "execution_count": null,
      "metadata": {
        "id": "GGOyNRsZMhXb"
      },
      "outputs": [],
      "source": []
    },
    {
      "cell_type": "markdown",
      "source": [
        "# 파이썬"
      ],
      "metadata": {
        "id": "jYAu1XE1MkCD"
      }
    },
    {
      "cell_type": "markdown",
      "source": [
        "## 3.함수"
      ],
      "metadata": {
        "id": "kijY3lweModl"
      }
    },
    {
      "cell_type": "markdown",
      "source": [
        "### 3.2 반환(return) 문"
      ],
      "metadata": {
        "id": "TuSQUuHhh_A3"
      }
    },
    {
      "cell_type": "markdown",
      "source": [],
      "metadata": {
        "id": "32EXqQWRiFlg"
      }
    },
    {
      "cell_type": "markdown",
      "source": [],
      "metadata": {
        "id": "5MFj8NcnMv0d"
      }
    },
    {
      "cell_type": "code",
      "source": [
        "#@title 이자(단리)"
      ],
      "metadata": {
        "id": "_2zR4FJhMw3F"
      },
      "execution_count": null,
      "outputs": []
    },
    {
      "cell_type": "markdown",
      "source": [
        "원금(p), 단리 이율(r), 기간(t)이 주어졌을 때 이자를 구하는 함수 simple_interest()를 작성하세요."
      ],
      "metadata": {
        "id": "Mt0C4D5MM1XF"
      }
    },
    {
      "cell_type": "code",
      "source": [
        "def simple_interest(p,r,t):\n",
        "    return p * r * t"
      ],
      "metadata": {
        "id": "N-xt3V6UM3DG"
      },
      "execution_count": null,
      "outputs": []
    },
    {
      "cell_type": "markdown",
      "source": [
        "원금(p), 단리 이율(r), 기간(t)이 주어졌을 때 원리금을 계산하는 함수 simple_interest_amount()를 작성하세요."
      ],
      "metadata": {
        "id": "0du860ZDM4Wt"
      }
    },
    {
      "cell_type": "code",
      "source": [
        "def simple_interest_amount(p,r,t):\n",
        "    return p*(1+r*t)\n",
        "simple_interest(1000,0.1,5)"
      ],
      "metadata": {
        "id": "QPb0LJTFM6Nl"
      },
      "execution_count": null,
      "outputs": []
    },
    {
      "cell_type": "code",
      "source": [
        "#@title 이자(복리)"
      ],
      "metadata": {
        "id": "5nBNtrQwM-r9"
      },
      "execution_count": null,
      "outputs": []
    },
    {
      "cell_type": "markdown",
      "source": [
        "복리 예금의 원금(p), 연이율(r), 기간(t), 복리 횟수(n)에 대한 원리금을 계산하는 함수 compound_interest_amount()를 작성하세요."
      ],
      "metadata": {
        "id": "ELhqUr0ihOCQ"
      }
    },
    {
      "cell_type": "code",
      "source": [
        "def compound_interest_amount(p,r,t,n):\n",
        "    return p * (1 + r/n)**(n * t)\n",
        "compound_interest_amount(1500000, 0.043, 6, 4)"
      ],
      "metadata": {
        "colab": {
          "base_uri": "https://localhost:8080/"
        },
        "id": "9cn0lCx3hOl_",
        "outputId": "7048a9fa-5a80-4f3d-971c-5f40d40a2c45"
      },
      "execution_count": null,
      "outputs": [
        {
          "output_type": "execute_result",
          "data": {
            "text/plain": [
              "1938836.8221341055"
            ]
          },
          "metadata": {},
          "execution_count": 1
        }
      ]
    },
    {
      "cell_type": "markdown",
      "source": [
        "### 3.5 람다"
      ],
      "metadata": {
        "id": "eg_glwptiH3X"
      }
    },
    {
      "cell_type": "code",
      "source": [
        "#@title 놀이공원"
      ],
      "metadata": {
        "id": "9s0wVifTrXix"
      },
      "execution_count": null,
      "outputs": []
    },
    {
      "cell_type": "markdown",
      "source": [
        "놀이 기구의 이름과 키 제한을 나타낸 문자열을 입력받아서, 놀이 기구의 이름, 탑승 가능한 키의 하한(下限)과 상한(上限)을 각 행에 출력합니다."
      ],
      "metadata": {
        "id": "nIO-ScJhrcDY"
      }
    },
    {
      "cell_type": "code",
      "source": [
        "def read(text):\n",
        "    ridename, limit = map(str.strip, text.split(':'))\n",
        "    \n",
        "    cmmin = cmmax = None\n",
        "    if '~' in limit:\n",
        "        cmmin, cmmax = map(lambda x: int(x.replace('cm', '')), limit.split('~'))\n",
        "    elif \"이상\" in limit:\n",
        "        cmmin = int(limit.split(\"cm\")[0])\n",
        "\n",
        "    return ridename, cmmin, cmmax\n",
        "\n",
        "\n",
        "if __name__ == \"__main__\":\n",
        "    ridename, cmmin, cmmax = read(input())\n",
        "    print(\"이름:\", ridename)\n",
        "    print(\"하한:\", cmmin)\n",
        "    print(\"상한:\", cmmax)"
      ],
      "metadata": {
        "id": "37G_nUqJrh5g"
      },
      "execution_count": null,
      "outputs": []
    },
    {
      "cell_type": "code",
      "source": [],
      "metadata": {
        "id": "OPiY4yKTrrhY"
      },
      "execution_count": null,
      "outputs": []
    },
    {
      "cell_type": "markdown",
      "source": [
        "## 4.데이터 타입"
      ],
      "metadata": {
        "id": "l5SPrJq4V4aA"
      }
    },
    {
      "cell_type": "markdown",
      "source": [
        "### 4.1 자료형"
      ],
      "metadata": {
        "id": "jxRJs3txWPRc"
      }
    },
    {
      "cell_type": "code",
      "source": [
        "#@title 회문 판별 함수"
      ],
      "metadata": {
        "id": "0ZDzCkSIWUw9"
      },
      "execution_count": null,
      "outputs": []
    },
    {
      "cell_type": "markdown",
      "source": [
        "주어진 단어가 회문인지 판별하는 함수 palindrome()을 작성하세요. 단, 문자열 입력은 모두 소문자로 이뤄지며 공백을 포함하지 않는다고 가정합니다."
      ],
      "metadata": {
        "id": "MV5oWTKxWdhi"
      }
    },
    {
      "cell_type": "code",
      "source": [
        "def palindrome(s):\n",
        "    s = s.lower()\n",
        "    s = s.replace(' ', '')\n",
        "    return s[:] == s[::-1]\n",
        "\n",
        "if __name__ == '__main__':\n",
        "    for x in ['anna', 'banana', 'Anna', 'My gym']:\n",
        "        if palindrome(x):\n",
        "            print(f\"'{x}' is a panlindrome\")\n",
        "        else:\n",
        "            print(f\"'{x}' is not a palindrome\")"
      ],
      "metadata": {
        "id": "1yG5HNp3YBT0"
      },
      "execution_count": null,
      "outputs": []
    },
    {
      "cell_type": "markdown",
      "source": [
        "### 4.2 문자열과 리스트"
      ],
      "metadata": {
        "id": "KYO4itkKWStY"
      }
    },
    {
      "cell_type": "code",
      "source": [
        "#@title 각 자리 숫자의 합"
      ],
      "metadata": {
        "id": "dZhk19sti208"
      },
      "execution_count": null,
      "outputs": []
    },
    {
      "cell_type": "markdown",
      "source": [
        "정수 num을 매개변수로 받아 각 자리 숫자(digit)의 합을 계산하는 sumOfDigits() 함수를 작성하세요. 단, 나눗셈을 이용하지 말고 풀어보세요."
      ],
      "metadata": {
        "id": "DjGRfCpikFbu"
      }
    },
    {
      "cell_type": "code",
      "source": [
        "#1\n",
        "def sumOfDigits(num):\n",
        "    sum = 0\n",
        "    for c in list(str(num)):\n",
        "        sum += int(c)\n",
        "\n",
        "    return sum\n",
        "    \n",
        "#2\n",
        "def sumOfDigits(num):\n",
        "    abc = list(map(int, str(num)))\n",
        "               \n",
        "    return sum(abc)\n",
        "    \n",
        "print(sumOfDigits(456))\n"
      ],
      "metadata": {
        "id": "cpW0_WqSi6kW"
      },
      "execution_count": null,
      "outputs": []
    },
    {
      "cell_type": "code",
      "source": [
        "#@title 줄기와 잎 그림"
      ],
      "metadata": {
        "id": "Bjk1lwvsiwm1"
      },
      "execution_count": null,
      "outputs": []
    },
    {
      "cell_type": "markdown",
      "source": [
        "stem_leaf에 데이터를 채우는 프로그램을 작성하세요. 데이터가 채워진 결과는 다음과 같습니다."
      ],
      "metadata": {
        "id": "pqWOUQkh5MEn"
      }
    },
    {
      "cell_type": "code",
      "source": [
        ">>> stem_leaf\n",
        "[[0, 0, 2, 4, 7, 7, 9], [1, 1, 3, 8], [0]]\n",
        ">>> stem_leaf[0]\n",
        "[0, 0, 2, 4, 7, 7, 9]\n",
        ">>> stem_leaf[1]\n",
        "[1, 1, 3, 8]\n",
        ">>> stem_leaf[2]\n",
        "[0]"
      ],
      "metadata": {
        "id": "3LDzMqct5HWv"
      },
      "execution_count": null,
      "outputs": []
    },
    {
      "cell_type": "markdown",
      "source": [
        "stem_leaf를 다음과 같은 형태로 프린트하는 프로그램을 작성하세요."
      ],
      "metadata": {
        "id": "-clnZFsOGesj"
      }
    },
    {
      "cell_type": "code",
      "source": [
        "0: [0, 0, 2, 4, 7, 7, 9]\n",
        "1: [1, 1, 3, 8]\n",
        "2: [0]"
      ],
      "metadata": {
        "id": "aYjfnFUkGgnK"
      },
      "execution_count": null,
      "outputs": []
    },
    {
      "cell_type": "code",
      "source": [
        "score = [0, 0, 2, 4, 7, 7, 9]\n",
        "score += [11, 11, 13, 18]\n",
        "score += [20]\n",
        "\n",
        "stem_leaf = [[], [], []]\n",
        "\n",
        "# ex 1\n",
        "\n",
        "for s in score:\n",
        "    d, m = divmod(s, 10)\n",
        "    stem_leaf[d].append(m)\n",
        "\n",
        "# ex 2\n",
        "\n",
        "for i in range(len(stem_leaf)):\n",
        "    print(f'{i}: {stem_leaf[i]}')"
      ],
      "metadata": {
        "id": "wbZ86aUE50Wm"
      },
      "execution_count": null,
      "outputs": []
    },
    {
      "cell_type": "markdown",
      "source": [],
      "metadata": {
        "id": "VIzYrNZC48O3"
      }
    },
    {
      "cell_type": "code",
      "source": [
        "#@title 소수 구하기"
      ],
      "metadata": {
        "id": "lgIuDGBYGkSC"
      },
      "execution_count": null,
      "outputs": []
    },
    {
      "cell_type": "markdown",
      "source": [
        "소수를 구하는 방법은 다음과 같습니다.\n",
        "\n",
        "찾고자 하는 범위의 자연수를 나열한다.\n",
        "2부터 시작하여, 2의 배수를 지워나간다.\n",
        "다음 소수의 배수를 모두 지운다."
      ],
      "metadata": {
        "id": "9LPbumOtH39a"
      }
    },
    {
      "cell_type": "code",
      "source": [
        "def remove_prime(n):\n",
        "    N = list(range(2, n + 1))\n",
        "    for p in N:\n",
        "        for n in N:\n",
        "                if n != p and n % p == 0:\n",
        "                    N.remove(n)\n",
        "\n",
        "    print(N)"
      ],
      "metadata": {
        "id": "PNvExEClH3GS"
      },
      "execution_count": null,
      "outputs": []
    },
    {
      "cell_type": "code",
      "source": [
        "#@title 진법 변환"
      ],
      "metadata": {
        "id": "g8BP4EguE--N"
      },
      "execution_count": null,
      "outputs": []
    },
    {
      "cell_type": "markdown",
      "source": [
        "십진수를 입력받아 그 숫자에 해당하는 이진수의 각 자리를 리스트로 출력하는 프로그램을 작성하세요. (순서에 유의)"
      ],
      "metadata": {
        "id": "zf5pdRmnFB5l"
      }
    },
    {
      "cell_type": "code",
      "source": [
        "d = int(input())\n",
        "m = d \n",
        "b = []\n",
        "\n",
        "while True:\n",
        "    d, m = divmod(d, 2) #d는 몫, m은 나머지\n",
        "    b.insert(0, m)\n",
        "    if d == 0:\n",
        "        break\n",
        "\n",
        "print(b)"
      ],
      "metadata": {
        "id": "XTpQa7OhJCSE"
      },
      "execution_count": null,
      "outputs": []
    },
    {
      "cell_type": "markdown",
      "source": [
        "### 4.3 튜플"
      ],
      "metadata": {
        "id": "fwpmO0z7Jthd"
      }
    },
    {
      "cell_type": "code",
      "source": [
        "#@title 내일의 날"
      ],
      "metadata": {
        "id": "5vJZJMHQJv9u"
      },
      "execution_count": null,
      "outputs": []
    },
    {
      "cell_type": "code",
      "source": [
        "def read_date():\n",
        "    year, month, day = tuple(map(int, input().split()))\n",
        "    return year, month, day\n",
        "\n",
        "def print_date(date):\n",
        "    year, month, day = date\n",
        "    print(\"%02d/%02d/%04d\" % (month, day, year))\n",
        "\n",
        "def advance_day(date):\n",
        "    year, month, day = date\n",
        "\n",
        "    end_of_month = (month, day) in [(1, 31), (2, 28), (3, 31), (4, 30), (5,\n",
        "        31), (6, 30), (7, 31), (8, 31), (9, 30), (10, 31), (11, 30), (12, 31)]\n",
        "    \n",
        "    end_of_year = month == 12 and day == 31\n",
        "    \n",
        "    if end_of_month:\n",
        "        if end_of_year:\n",
        "            year += 1\n",
        "            month = 1\n",
        "            day = 1\n",
        "        else:\n",
        "            month += 1\n",
        "            day = 1\n",
        "    else:\n",
        "        day += 1\n",
        "    \n",
        "    return year, month, day\n",
        "    \n",
        "if __name__ == \"__main__\":\n",
        "    today = read_date()\n",
        "    print_date(today)\n",
        "    tomorrow = advance_day(today)\n",
        "    print_date(tomorrow)"
      ],
      "metadata": {
        "colab": {
          "base_uri": "https://localhost:8080/"
        },
        "id": "2edho9d2JyhI",
        "outputId": "002e9c45-7880-4ad9-c332-260d1d540c47"
      },
      "execution_count": null,
      "outputs": [
        {
          "output_type": "stream",
          "name": "stdout",
          "text": [
            "2023 01 13\n",
            "01/13/2023\n",
            "01/14/2023\n"
          ]
        }
      ]
    },
    {
      "cell_type": "markdown",
      "source": [
        "### 4.4 딕셔너리"
      ],
      "metadata": {
        "id": "WFDuPNeuPjOq"
      }
    },
    {
      "cell_type": "code",
      "source": [
        "#@title 숫자 읽기"
      ],
      "metadata": {
        "id": "eDSzCcw4PonS"
      },
      "execution_count": null,
      "outputs": []
    }
  ]
}