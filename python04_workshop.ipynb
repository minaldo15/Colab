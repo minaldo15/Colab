{
 "cells": [
  {
   "cell_type": "code",
   "execution_count": null,
   "metadata": {},
   "outputs": [],
   "source": [
    "# 1. 간단한 N의 약수(SWEA #1933)\n",
    "\n",
    "# 입력으로 1개의 정수 N이 주어진다. 정수 N의 약수를 오름차순으로 출력하는 프로그램을 작성하시오.\n",
    "\n",
    "# [제약 사항]\n",
    "# N은 1이상 1,000이하의 정수이다. (1 ≤ N ≤ 1,000)\n",
    "\n",
    "# [입력]\n",
    "# 입력으로 정수 N이 주어진다.\n",
    "# [출력]\n",
    "# 정수 N의 모든 약수를 오름차순으로 출력한다.\n",
    "\n",
    "# [입력 예시]\n",
    "# 10\n",
    "# [출력 예시]\n",
    "# 1 2 5 10\n",
    "\n",
    "N = int(input())\n",
    "lst_mea = list()\n",
    "for i in range(1, N + 1):\n",
    "    if N % i == 0:\n",
    "        lst_mea.append(i)\n",
    "lst_mea.sort\n",
    "print(*lst_mea)"
   ]
  },
  {
   "cell_type": "code",
   "execution_count": null,
   "metadata": {},
   "outputs": [],
   "source": [
    "# 2. 2. List의 합 구하기\n",
    "# 정수로만 이루어진 list 를 전달 받아 해당 list 의 모든 요소들의 합을 반환하는\n",
    "# list_sum 함수를 built in 함수인 sum() 함수를 사용하지 않고 작성하시오\n",
    "\n",
    "lst = [1,2,3,4,5]\n",
    "def list_sum(lst):\n",
    "    sum = 0\n",
    "    for i in range(len(lst)):\n",
    "        sum += lst[i]\n",
    "    return sum\n",
    "print(list_sum(lst))"
   ]
  }
 ],
 "metadata": {
  "kernelspec": {
   "display_name": "Python 3",
   "language": "python",
   "name": "python3"
  },
  "language_info": {
   "name": "python",
   "version": "3.9.13 (tags/v3.9.13:6de2ca5, May 17 2022, 16:36:42) [MSC v.1929 64 bit (AMD64)]"
  },
  "orig_nbformat": 4,
  "vscode": {
   "interpreter": {
    "hash": "c4b9ebf4ca459396e2ad1150752490c26670c1a037c08cad955a4425787bec2e"
   }
  }
 },
 "nbformat": 4,
 "nbformat_minor": 2
}
