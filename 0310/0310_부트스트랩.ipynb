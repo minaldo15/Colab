{
 "cells": [
  {
   "attachments": {},
   "cell_type": "markdown",
   "metadata": {},
   "source": [
    "# Bootstrap\n",
    "- Bootstrap 알아보기\n",
    "- Bootstrap Grid System\n",
    "\n",
    "## CDN\n",
    "- Content Delivery(Distribution) Network\n",
    "- 컨텐츠(CSS, JS, Image, Text 등)를 효율적으로 전달하기 위해 여러 노드를 가진 네트워크에서 데이터를 제공하는 시스템\n",
    "- 개별 end-user의 가까운 서버를 통해 빠르게 전달 가능(지리적 이점)\n",
    "- 외부 서버를 활용함으로써 본인 서버의 부하가 적어짐\n"
   ]
  }
 ],
 "metadata": {
  "language_info": {
   "name": "python"
  },
  "orig_nbformat": 4
 },
 "nbformat": 4,
 "nbformat_minor": 2
}
