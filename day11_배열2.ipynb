{
 "cells": [
  {
   "attachments": {},
   "cell_type": "markdown",
   "metadata": {},
   "source": [
    "## 검색\n",
    "- 순차 검색(sequential)\n",
    "- 이진 검색(binary)\n",
    "- 해쉬(hash)"
   ]
  },
  {
   "attachments": {},
   "cell_type": "markdown",
   "metadata": {},
   "source": [
    "### 순차 검색\n",
    "- 일렬로 되어 있는 자료를 순서대로 검색하는 방법\n",
    "  - 가장 간단하고 직관적인 검색 방법\n",
    "  - 배열이나 연결 리스트 등 순차구조로 구현된 자료구조에서 유용\n",
    "  - 검색 수가 많은 경우 수행시간이 김\n",
    "\n",
    "- 2가지 경우\n",
    "  - 정렬되어 있지 않은 경우\n",
    "  - 정렬되어 있는 경우\n",
    "\n",
    "1. 정렬되어 있지 않은 경우\n",
    "   - 검색 과정\n",
    "     - 첫 번째 원소부터 순서대로 검색\n",
    "   - 시간 복잡도: O(n)\n",
    "\n",
    "2. 정렬되어 있는 경우\n",
    "   - 검색 과정\n",
    "     - 순차적으로 검색하면서 원소의 키 값이 검색 대상의 키 값보다 크면(찾는 원소가 없다는 것) 검색 종료\n",
    "   - 시간 복잡도: O(n)"
   ]
  },
  {
   "cell_type": "code",
   "execution_count": null,
   "metadata": {},
   "outputs": [],
   "source": [
    "# 정렬되어 있지 않은 경우\n",
    "def sequential_Search(a, n, key): # a는 자료구조(순차구조)\n",
    "    i = 0\n",
    "    while i < n and a[i] != key:\n",
    "        i += 1\n",
    "        if i < n:\n",
    "            return i\n",
    "        else:\n",
    "            return - 1"
   ]
  },
  {
   "cell_type": "code",
   "execution_count": null,
   "metadata": {},
   "outputs": [],
   "source": [
    "# 정렬되어 있는 경우\n",
    "def sequential_Search2(a, n, key):\n",
    "    i = 0\n",
    "    while i < n and a[i] < key:\n",
    "        i += 1\n",
    "        if i < n and a[i] == key:\n",
    "            return i\n",
    "        else:\n",
    "            return -1"
   ]
  },
  {
   "attachments": {},
   "cell_type": "markdown",
   "metadata": {},
   "source": [
    "### 이진 검색\n",
    "- 자료의 가운데에 있는 항목의 키 값과 비교하여 다음 검색의 위치를 결정하고 검색을 계속 진행하는 방법\n",
    "- 이진 검색을 위해서는 자료가 정렬된 상태여야 한다.\n",
    "  - 검색 과정\n",
    "    - 자료의 중앙에 있는 원소를 고른다.\n",
    "    - 중앙 원소의 값과 찾고자 하는 목표 값을 비교한다.\n",
    "    - 목표 값이 중앙 원소의 값보다 작으면 자료의 왼쪽 반에 대해서 새로 검색을 수행하고, 크다면 자료의 오른쪽 반에 대해서 새로 검색을 수행한다.\n"
   ]
  },
  {
   "cell_type": "code",
   "execution_count": null,
   "metadata": {},
   "outputs": [],
   "source": [
    "# def binary_Search(a, n, key):\n",
    "#     if a[n//2] > key:\n",
    "#         i = n//2\n",
    "#         while i >= 0 and a[i] >= key:\n",
    "#             i -= 1\n",
    "#             if i >= 0 and a[i] == key:\n",
    "#                 return i\n",
    "#             else:\n",
    "#                 return -1\n",
    "#     else:\n",
    "#         i = n//2\n",
    "#         while i < n and a[i] < key:\n",
    "#             i += 1\n",
    "#             if i < n and a[i] == key:\n",
    "#                 return i\n",
    "#             else:\n",
    "#                 return -1\n",
    "\n",
    "def binary_Search(a, n, key):\n",
    "    start = 0\n",
    "    end = n - 1\n",
    "    while start <= end:\n",
    "        middle = (start + end)//2\n",
    "        if a[middle] == key: # 검색 성공\n",
    "            return True\n",
    "        elif a[middle] > key:\n",
    "            end = middle - 1\n",
    "        else:\n",
    "            start = middle + 1\n",
    "    return False    # 검색 실패"
   ]
  },
  {
   "attachments": {},
   "cell_type": "markdown",
   "metadata": {},
   "source": [
    "### 선택 정렬\n",
    "- 주어진 자료들 중 가장 작은 값의 원소부터 차례대로 선택하여 위치를 교환하는 방식\n",
    "- 정렬 과정\n",
    "  - 주어진 리스트 중 최소값을 찾는다.\n",
    "  - 그 값을 리스트의 맨 앞에 위치한 값과 교환한다.\n",
    "  - 맨 처음 위치를 제외한 나머지 리스트를 대상으로 위의 과정을 반복한다.\n",
    "- 시간 복잡도\n",
    "  - O(n2)"
   ]
  },
  {
   "cell_type": "code",
   "execution_count": null,
   "metadata": {},
   "outputs": [],
   "source": [
    "def selection_Sort(a, N):\n",
    "    for i in range(N - 1):\n",
    "        minIdx = i\n",
    "        for j in range(i+1, N):\n",
    "            if a[minIdx] > a[j]: # i를 제외한 남은 리스트에서 최솟값 찾기\n",
    "                minIdx = j\n",
    "        a[i], a[minIdx] = a[minIdx], a[i]"
   ]
  },
  {
   "attachments": {},
   "cell_type": "markdown",
   "metadata": {},
   "source": [
    "### 셀렉션 알고리즘\n",
    "- 저장되어 있는 자료로부터 k번째로 큰 혹은 작은 원소를 찾는 방법을 셀렉션 알고리즘이라 한다.\n",
    "  - 최소값, 최대값 혹은 중간값을 찾는 알고리즘을 의미하기도 한다.\n",
    "- 선택 과정\n",
    "  - 정렬 알고리즘을 이용하여 자료 정렬하기\n",
    "  - 원하는 순서에 있는 원소 가져오기\n",
    "- 시간 복잡도\n",
    "  - O(kn)"
   ]
  },
  {
   "cell_type": "code",
   "execution_count": null,
   "metadata": {},
   "outputs": [],
   "source": [
    "def select(arr, k):\n",
    "    for i in range(k): # k까지만 탐색\n",
    "        minIdx = i\n",
    "        for j in range(i+1, len(arr)):\n",
    "            if arr[minIdx] > arr[j]: # i를 제외한 남은 리스트에서 최솟값 찾기\n",
    "                minIdx = j\n",
    "        arr[i], arr[minIdx] = arr[minIdx], arr[i]\n",
    "    return arr[k-1]\n",
    "\n",
    "\n"
   ]
  }
 ],
 "metadata": {
  "language_info": {
   "name": "python"
  },
  "orig_nbformat": 4
 },
 "nbformat": 4,
 "nbformat_minor": 2
}
