{
 "cells": [
  {
   "attachments": {},
   "cell_type": "markdown",
   "metadata": {},
   "source": [
    "## 계산기1\n",
    "- 문자열 수식 계산의 일반적 방법\n",
    "  - 1. 중위 표기법의 수식을 후위 표기법으로 변경(스택 이용)\n",
    "  - 2. 후위 표기법의 수식을 스택을 이용하여 계산\n",
    "- 변환 알고리즘\n",
    "  - 1. 중위 표기식에서 토큰을 읽는다\n",
    "  - 2. 토큰이 피연산자이면 토큰을 출력한다\n",
    "  - 3. 토큰이 연산자(괄호포함)일 때, 이 토큰이 스택의 top에 저장되어 있는 연산자보다 우선순위가 높으면 스택에 push하고, 그렇지 않으면 스택 top의 연산자의 우선순위가 보다 낮아질 때까지 스택에서 pop한 후 상대적으로 우선순위가 높아진 토큰의 연산자를 push한다. 만약 top에 연산자가 없으면 push한다.\n",
    "  - 4. 토큰이 오른쪽 괄호면 top에 왼쪽 괄호가 올 때까지 스택을 pop하고 pop한 연산자를 출력. 왼쪽 괄호를 만나면 pop만하고 버림\n",
    "  - 5. 중위 표기식에 더 읽을 것이 없다면 중지, 읽을 것 있으면 1부터 다시 반복\n",
    "  - 6. 스택에 남아 있는 연산자를 모두 pop하여 출력"
   ]
  },
  {
   "attachments": {},
   "cell_type": "markdown",
   "metadata": {},
   "source": [
    "## 계산기2\n",
    "- 후위 표기법의 수식을 스택을 이용하여 계산\n",
    "- 1. 피연산자를 만나면 스택에 push한다.\n",
    "- 2. 연산자를 만나면 필요한 만큼의 피연산자를 스택에서 pop하여 연산하고, 연산결과를 다시 스택에 push한다.\n",
    "- 3. 수식이 끝나면, 마지막으로 스택을 pop하여 출력한다."
   ]
  },
  {
   "attachments": {},
   "cell_type": "markdown",
   "metadata": {},
   "source": [
    "## 백트래킹(Backtracking)\n",
    "- 해를 찾는 도중에 '막히면' (즉, 해가 아니면)되돌아가서 다시 해를 찾아 가는 기법\n",
    "- 백트래킹 기법은 최적화(`optimization`) 문제와 결정(`decision`) 문제를 해결할 수 있다.\n",
    "- 결정 문제: 문제의 조건을 만족하는 해가 존재하는지의 여부를 'yes'또는 'no'가 답하는 문제\n",
    "  - 미로 찾기\n",
    "  - n-Queen\n",
    "  - Map coloring\n",
    "  - 부분 집합의 합(Subset Sum) 문제 등\n",
    "- 백트래킹과 깊이우선탐색과의 차이\n",
    "  - 어떤 노드에서 출발하는 경로가 해결책으로 이어질 것 같지 않으면 더 이상 그 경로를 따라가지 않음으로써 시도의 쇳수를 줄임.(`Prunning` 가지치기)\n",
    "  - 깊이우선탐색이 모든 경로를 추적하는데 비해 백트래킹은 불필요한 경로를 조기에 차단\n",
    "  - 깊이우선탐색을 가하기에는 경우의 수가 너무나 많음. 즉, N! 가지의 경우의 수를 가진 문제에 대해 깊이우선탐색을 가하면 당연히 처리 불가능\n",
    "  - 백트래킹 알고리즘을 적용하면 일반적으로 경우의 수가 줄어들지만 이 역시 최악의 경우에는 여전히 지수함수 시간(Exponential Time)을 요하므로 처리 불가능"
   ]
  },
  {
   "attachments": {},
   "cell_type": "markdown",
   "metadata": {},
   "source": [
    "### 미로 찾기"
   ]
  },
  {
   "attachments": {},
   "cell_type": "markdown",
   "metadata": {},
   "source": [
    "### 부분집합 구하기\n"
   ]
  },
  {
   "cell_type": "code",
   "execution_count": null,
   "metadata": {},
   "outputs": [],
   "source": [
    "# a = {1,2,3,4,5,6,7,8,9,10}"
   ]
  },
  {
   "cell_type": "code",
   "execution_count": null,
   "metadata": {},
   "outputs": [],
   "source": [
    "# 순열 생성\n",
    "for i1 in range(1, 4):\n",
    "    for i2 in range(1, 4):\n",
    "        if i2 != i1:\n",
    "            for i3 in range(1, 4):\n",
    "                if i3 != i1 and i3 != i2:\n",
    "                    print(i1, i2, i3)"
   ]
  },
  {
   "cell_type": "code",
   "execution_count": 1,
   "metadata": {},
   "outputs": [
    {
     "name": "stdout",
     "output_type": "stream",
     "text": [
      "10 \n",
      "4 6 \n",
      "3 7 \n",
      "2 8 \n",
      "2 3 5 \n",
      "1 9 \n",
      "1 4 5 \n",
      "1 3 6 \n",
      "1 2 7 \n",
      "1 2 3 4 \n"
     ]
    }
   ],
   "source": [
    "# 재귀로 부분집합 원소 구하기\n",
    "def f(i, k, key):\n",
    "    if i == k:\n",
    "        s = 0\n",
    "        for j in range(k):\n",
    "            if bit[j] == 1:\n",
    "                s += A[j]\n",
    "                # print(A[j], end =' ')\n",
    "        # print(bit, s)\n",
    "        if s == key:\n",
    "            for j in range(k):\n",
    "                if bit[j] == 1:\n",
    "                    print(A[j], end = ' ')\n",
    "            print()\n",
    "            \n",
    "    else:\n",
    "        bit[i] = 0\n",
    "        f(i+1, k, key)\n",
    "        bit[i] = 1\n",
    "        f(i+1, k, key)\n",
    "        \n",
    "A = [1,2,3,4,5,6,7,8,9,10]\n",
    "N = len(A)\n",
    "key = 10\n",
    "bit = [0] * N\n",
    "f(0, N, key)"
   ]
  },
  {
   "cell_type": "code",
   "execution_count": 1,
   "metadata": {},
   "outputs": [
    {
     "name": "stdout",
     "output_type": "stream",
     "text": [
      "1 2047\n"
     ]
    }
   ],
   "source": [
    "# 백트래킹으로 부분집합의 합 구하기\n",
    "def f(i, k, s, t): # i 원소, k 집합의 크기, s i-1까지 고려된 합, t 목표\n",
    "    global cnt\n",
    "    global fcnt\n",
    "    fcnt += 1\n",
    "    if s > t: # 고려할 필요가 없는 경우\n",
    "        return\n",
    "    elif s == t: # 남은 원소를 고려할 필요가 없는 경우\n",
    "        cnt += 1\n",
    "        return\n",
    "    elif i == k: # 모든 원소 고려\n",
    "        # if s == t:\n",
    "        #     # for j in range(k):\n",
    "        #     #     if bit[j]:\n",
    "        #     #         print(A[j], end = ' ') \n",
    "        #     # print()\n",
    "        #     cnt += 1\n",
    "        return\n",
    "       \n",
    "    else:\n",
    "        bit[i] = 1\n",
    "        f(i+1, k, s+A[i], t)  # A[i] 포함\n",
    "        bit[i] = 0\n",
    "        f(i+1, k, s, t)       # A[i] 미포함\n",
    "\n",
    "        \n",
    "A = [1,2,3,4,5,6,7,8,9,10]\n",
    "N = len(A)\n",
    "key = 55\n",
    "cnt = 0\n",
    "fcnt = 0\n",
    "bit = [0] * N\n",
    "\n",
    "f(0, N, 0, key)\n",
    "print(cnt, fcnt)"
   ]
  },
  {
   "attachments": {},
   "cell_type": "markdown",
   "metadata": {},
   "source": [
    "### 순열 구하기"
   ]
  },
  {
   "cell_type": "code",
   "execution_count": 6,
   "metadata": {},
   "outputs": [
    {
     "ename": "IndexError",
     "evalue": "list index out of range",
     "output_type": "error",
     "traceback": [
      "\u001b[1;31m---------------------------------------------------------------------------\u001b[0m",
      "\u001b[1;31mIndexError\u001b[0m                                Traceback (most recent call last)",
      "Cell \u001b[1;32mIn[6], line 37\u001b[0m\n\u001b[0;32m     35\u001b[0m a \u001b[39m=\u001b[39m [\u001b[39m0\u001b[39m] \u001b[39m*\u001b[39m NMAX\n\u001b[0;32m     36\u001b[0m fcnt \u001b[39m=\u001b[39m \u001b[39m0\u001b[39m\n\u001b[1;32m---> 37\u001b[0m backtrack(a, \u001b[39m0\u001b[39;49m, \u001b[39m3\u001b[39;49m)\n\u001b[0;32m     38\u001b[0m \u001b[39mprint\u001b[39m(fcnt)\n",
      "Cell \u001b[1;32mIn[6], line 14\u001b[0m, in \u001b[0;36mbacktrack\u001b[1;34m(a, k, input)\u001b[0m\n\u001b[0;32m     12\u001b[0m \u001b[39melse\u001b[39;00m:\n\u001b[0;32m     13\u001b[0m     k \u001b[39m+\u001b[39m\u001b[39m=\u001b[39m \u001b[39m1\u001b[39m\n\u001b[1;32m---> 14\u001b[0m     ncandidates \u001b[39m=\u001b[39m construct_candidates(a, k, \u001b[39minput\u001b[39;49m, c)\n\u001b[0;32m     15\u001b[0m     \u001b[39mfor\u001b[39;00m i \u001b[39min\u001b[39;00m \u001b[39mrange\u001b[39m(ncandidates):\n\u001b[0;32m     16\u001b[0m         a[k] \u001b[39m=\u001b[39m c[i]\n",
      "Cell \u001b[1;32mIn[6], line 28\u001b[0m, in \u001b[0;36mconstruct_candidates\u001b[1;34m(a, k, input, c)\u001b[0m\n\u001b[0;32m     26\u001b[0m ncandidates \u001b[39m=\u001b[39m \u001b[39m0\u001b[39m\n\u001b[0;32m     27\u001b[0m \u001b[39mfor\u001b[39;00m i \u001b[39min\u001b[39;00m \u001b[39mrange\u001b[39m(\u001b[39m1\u001b[39m, \u001b[39minput\u001b[39m \u001b[39m+\u001b[39m \u001b[39m1\u001b[39m):\n\u001b[1;32m---> 28\u001b[0m     \u001b[39mif\u001b[39;00m in_perm[i] \u001b[39m==\u001b[39m \u001b[39mFalse\u001b[39;00m:\n\u001b[0;32m     29\u001b[0m         c[ncandidates] \u001b[39m=\u001b[39m i\n\u001b[0;32m     30\u001b[0m         ncandidates \u001b[39m+\u001b[39m\u001b[39m=\u001b[39m \u001b[39m1\u001b[39m\n",
      "\u001b[1;31mIndexError\u001b[0m: list index out of range"
     ]
    }
   ],
   "source": [
    "# 백트래킹을 이용한 순열 구하기\n",
    "def backtrack(a, k, input):\n",
    "    global MAXCANDIDATES\n",
    "    global fcnt\n",
    "    fcnt += 1\n",
    "    c = [0] * MAXCANDIDATES\n",
    "\n",
    "    if k == input:\n",
    "        for i in range(1, k + 1):\n",
    "            print(a[i], end=\" \")\n",
    "        print()\n",
    "    else:\n",
    "        k += 1\n",
    "        ncandidates = construct_candidates(a, k, input, c)\n",
    "        for i in range(ncandidates):\n",
    "            a[k] = c[i]\n",
    "            backtrack(a, k, input)\n",
    "\n",
    "\n",
    "def construct_candidates(a, k, input, c):\n",
    "    in_perm = [False] * NMAX\n",
    "\n",
    "    for i in range(1, k):\n",
    "        in_perm[a[i]] = True\n",
    "\n",
    "    ncandidates = 0\n",
    "    for i in range(1, input + 1):\n",
    "        if in_perm[i] == False:\n",
    "            c[ncandidates] = i\n",
    "            ncandidates += 1\n",
    "    return ncandidates\n",
    "\n",
    "NMAX = 4\n",
    "MAXCANDIDATES = 3\n",
    "a = [0] * NMAX\n",
    "fcnt = 0\n",
    "backtrack(a, 0, 3)\n",
    "print(fcnt)"
   ]
  },
  {
   "cell_type": "code",
   "execution_count": 24,
   "metadata": {},
   "outputs": [
    {
     "name": "stdout",
     "output_type": "stream",
     "text": [
      "[1, 2, 3]\n",
      "[1, 3, 2]\n",
      "[2, 1, 3]\n",
      "[2, 3, 1]\n",
      "[3, 2, 1]\n",
      "[3, 1, 2]\n",
      "16\n"
     ]
    }
   ],
   "source": [
    "def f(i, k):\n",
    "    global fcnt\n",
    "    fcnt += 1\n",
    "    if i == k:\n",
    "        print(p)\n",
    "    else:\n",
    "        for j in range(i, k):\n",
    "            p[i], p[j] = p[j], p[i]\n",
    "            f(i+1, k)\n",
    "            p[i], p[j] = p[j], p[i]\n",
    "\n",
    "\n",
    "p = [1,2,3]\n",
    "N = len(p)\n",
    "fcnt = 0\n",
    "f(0, N)\n",
    "print(fcnt)"
   ]
  },
  {
   "attachments": {},
   "cell_type": "markdown",
   "metadata": {},
   "source": [
    "### 분할 정복 알고리즘\n",
    "- 전력이 우세한 연합군을 공격하기 위해 나폴레옹은 연합군의 중앙부로 쳐들어가 연합군을 둘로 나눔\n",
    "- 둘로 나뉜 연합군을 한 부분씩 격파함\n",
    "- 설계 전략\n",
    "  - 분할: 해결할 문제를 여러 개의 작은 부분으로 나눈다\n",
    "  - 정복: 나눈 작은 문제를 각각 해결한다\n",
    "  - 통합: 해결된 해답을 모은다"
   ]
  },
  {
   "attachments": {},
   "cell_type": "markdown",
   "metadata": {},
   "source": [
    "### 퀵 정렬\n",
    "- 주어진 배열을 두 개로 분할하고, 각각을 정렬한다.\n",
    "- 합병정렬과 다른점\n",
    "  - 합병정렬은 그냥 두 부분으로 나누는 반면에, 퀵정렬은 분할할 때, 기준 아이템중심으로, 이보다 작은 것은 왼편, 큰 것은 오른편에 위치시킨다.\n",
    "  - 각 부분 정렬이 끝난 후, 합병정렬은 '합병'이란 후처리 작업이 필요하나, 퀵정렬은 필요로 하지 않는다."
   ]
  },
  {
   "cell_type": "code",
   "execution_count": 27,
   "metadata": {},
   "outputs": [
    {
     "name": "stdout",
     "output_type": "stream",
     "text": [
      "[2, 8, 10, 16, 22, 30, 31, 69]\n"
     ]
    }
   ],
   "source": [
    "def qsort(a, s, e):\n",
    "    if s < e:\n",
    "        p = part(a, s, e)\n",
    "        qsort(a, s, p-1)\n",
    "        qsort(a, p+1, e)\n",
    "\n",
    "def part(a, s, e):\n",
    "    pivot = (s + e)//2\n",
    "    L = s\n",
    "    R = e\n",
    "    while L < R:\n",
    "        while(L<R and a[L]< a[pivot]): L += 1\n",
    "        while(L<R and a[R]>= a[pivot]): R -= 1\n",
    "        if L < R:\n",
    "            if L == pivot: pivot = R\n",
    "            a[L], a[R] = a[R], a[L]\n",
    "    a[pivot], a[R] = a[R], a[pivot]\n",
    "    return R\n",
    "\n",
    "a = [69,10,30,2,16,8,31,22]\n",
    "qsort(a, 0, len(a)-1)\n",
    "print(a)"
   ]
  }
 ],
 "metadata": {
  "kernelspec": {
   "display_name": "Python 3",
   "language": "python",
   "name": "python3"
  },
  "language_info": {
   "codemirror_mode": {
    "name": "ipython",
    "version": 3
   },
   "file_extension": ".py",
   "mimetype": "text/x-python",
   "name": "python",
   "nbconvert_exporter": "python",
   "pygments_lexer": "ipython3",
   "version": "3.9.13"
  },
  "orig_nbformat": 4,
  "vscode": {
   "interpreter": {
    "hash": "c4b9ebf4ca459396e2ad1150752490c26670c1a037c08cad955a4425787bec2e"
   }
  }
 },
 "nbformat": 4,
 "nbformat_minor": 2
}
