{
 "cells": [
  {
   "attachments": {},
   "cell_type": "markdown",
   "metadata": {},
   "source": [
    "# 데이터 구조\n",
    "- Data Structure\n",
    "  - 여러 데이터를 효과적으로 사용, 관리하기 위한 구조\n",
    "  - 파이썬에는 대표적으로 `List, Tuple, Dict, Set` 등의 데이터 구조가 있음\n",
    "\n",
    "- 자료구조\n",
    "  - 컴퓨터 공학에서는 `자료구조`라고 함\n",
    "  - 각 데이터의 효율적인 저장, 관리를 위한 구조를 나눠 놓은 것\n",
    "\n",
    "- 데이터 구조 활용하기\n",
    "  - 데이터 구조를 활용하기 위해서는 `메서드(method)`를 사용\n",
    "    - 메서드는 클래스 내부에 정의한 함수, 사실상 함수 동일\n",
    "    - `데이터구조.메서드()` 형태로 활용 ex)`List.append(10), String.split()`\n",
    "  \n",
    "## 순서가 있는 데이터 구조\n",
    "- 문자열(`String Type`)\n",
    "  - 문자들의 나열\n",
    "    - 모든 문자는 str 타입(변경 불가능한 immutable) \n",
    "  - 문자열 조회/탐색 및 검증 메서드\n",
    "    - `s.find(x)`: x의 첫 번째 위치를 반환. 없으면, -1을 반환\n",
    "    - `s.index(x)`: x의 첫 번째 위치를 반환. 없으면, 오류 발생\n",
    "    - `s.isalpha()`: 알파벳 문자 여부 *단순 알파벳이 아닌 유니코드 상 Letter(한국어도 포함)\n",
    "    - `s.isupper()`: 대문자 여부\n",
    "    - `s.islower()`: 소문자 여부\n",
    "    - `s.istitle()`: 타이틀 형식 여부 *여부 검증은 `True` or `False` 형태로 출력\n",
    "  \n",
    "- 리스트(`List`)\n",
    "  - 대괄호([]) 혹은 list()를 통해 생성\n",
    "    - 가변 자료형\n",
    "  - 리스트 메서드\n",
    "    - `L.append(x)`: 리스트 마지막에 항목 x를 추가\n",
    "    - `L.insert(i, x)`: 리스트 인덱스 i에 항목 x를 삽입\n",
    "    - `L.remove(x)`: 리스트 가장 왼쪽에 있는 항목(첫 번째) x를 제거 / 항목이 존재하지 않을 경우, ValueError\n",
    "    - `L.pop()`: 리스트 가장 오른쪽에 있는 항목(마지막)을 반환 후 제거\n",
    "    - `L.pop(i)`: 리스트의 인덱스 i에 있는 항목을 반환 후 제거\n",
    "    - `L.extend(m)`: 순회형 m의 모든 항목들의 리스트 끝에 추가(+=과 같은 기능)\n",
    "    - `L.index(x, start, end)`: 리스트에 있는 항목 중 가장 왼쪽에 있는 항목 x의 인덱스를 반환\n",
    "    - `L.reverse()`: 리스트를 거꾸로 정렬\n",
    "    - `L.sort()`: 리스트를 정력(매개변수 이용가능)\n",
    "    - `L.count(x)`: 리스트에서 항목 x가 몇 개 존재하는지 갯수를 반환\n",
    "\n",
    "- 튜플(`Tuple`)\n",
    "  - 튜플은 여러 개의 값을 순서가 있는 구조로 저장하고 싶을 때 사용\n",
    "    - 리스트와 차이점은 생성 후, 담고 있는 값 변경 불가(불변 자료형)\n",
    "  - 튜플 관련 메서드\n",
    "    - 값에 영향을 미치지 않는 메서드만 지원\n",
    "    - 리스트 메서드 중 항목을 변경하는 메서드를 제외하고 대부분 동일   \n",
    "\n",
    "- 연산자\n",
    "  - 멤버십 연산자 (in, not in)\n",
    "  - 시퀀스형 연산자 (+),(*)\n",
    "  \n"
   ]
  },
  {
   "cell_type": "markdown",
   "metadata": {},
   "source": []
  },
  {
   "cell_type": "code",
   "execution_count": null,
   "metadata": {},
   "outputs": [],
   "source": []
  }
 ],
 "metadata": {
  "kernelspec": {
   "display_name": "Python 3",
   "language": "python",
   "name": "python3"
  },
  "language_info": {
   "name": "python",
   "version": "3.9.13 (tags/v3.9.13:6de2ca5, May 17 2022, 16:36:42) [MSC v.1929 64 bit (AMD64)]"
  },
  "orig_nbformat": 4,
  "vscode": {
   "interpreter": {
    "hash": "c4b9ebf4ca459396e2ad1150752490c26670c1a037c08cad955a4425787bec2e"
   }
  }
 },
 "nbformat": 4,
 "nbformat_minor": 2
}
