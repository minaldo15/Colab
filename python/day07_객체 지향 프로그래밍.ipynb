{
 "cells": [
  {
   "attachments": {},
   "cell_type": "markdown",
   "metadata": {},
   "source": [
    "# 객체 지향 프로그래밍\n",
    "\n",
    "1. 객체 지향 프로그래밍(`Object-Oriented Programming, OOP`)\n",
    "  - 컴퓨터 프로그래밍의 패러다임 중 하나\n",
    "  - 컴퓨터 프로그램을 `명령어의 목록`으로 보는 시각에서 벗어나 `여러 개의 독립된 단위`, \"`객체`\"들의 모임으로 파악하고자 하는 것\n",
    "\n",
    "  - 절차 지향 프로그래밍\n",
    "    - 장점\n",
    "      - 유기적인 흐름으로 연결\n",
    "      - 기능 중심, 실행이 빠름\n",
    "    - 단점\n",
    "      - 하드웨어의 발전 속도를 소프트웨어의 발전 속도가 따라가지 못함\n",
    "      - 생산성이 너무 낮음 -> 절차 대신 핵심이 되는 `데이터`를 중심으로 생각하자\n",
    "    - 데이터 중심, 현실의 사물, 조립하는 방식 == OOP\n",
    "\n",
    "  - 객체 지향의 장점\n",
    "    - 재사용이 가능\n",
    "    - 그 자체로 데이터와 행동이 정의됨(독립적) == 내부 구조를 몰라도 다른 객체와 조립하면서 개발 가능\n",
    "    - 객체 단위로 모듈화시켜 개발할 수 있으므로 많은 인원이 참여하느 대규모 소프트웨어 개발 가능\n",
    "    - 개발 용이성, 유지 보수 편의성, 신뢰성을 바탕으로 생산성이 대폭 증가\n",
    "  - 객체 지향의 단점\n",
    "    - 설계 시 많은 노력과 시간이 필요함\n",
    "      - 다양한 객체들의 상호 작용 구조를 만들기 위해 많은 시간과 노력이 필요\n",
    "    - 실행 속도가 상대적으로 느림\n",
    "      - 절차 지향 프로그래밍이 컴퓨터의 처리구조와 비슷해서 실행 속도가 빠름\n",
    "\n",
    "2. OOP 기초\n",
    "  - Class와 Instance\n",
    "    - 1,2,3은 모두 Class(`int`)의 인스턴스\n",
    "  - 객체(`object`)의 특징\n",
    "    - 타입(`type`): 어떤 연산자(operator)와 조작(method)이 가능한가?\n",
    "    - 속성(`attribute`): 어떤 상태(데이터)를 가지는가\n",
    "    - 조작법(`method`): 어떤 행위(함수)를 할 수 있는가?\n",
    "  - 객체(`object`) = 속성(`attribute`) + 기능(`mehtod`)\n",
    "\n",
    "3. OOP 문법\n",
    "\n",
    "  - OOP 변수\n",
    "    - 인스턴스와 클래스 간의 이름 공간\n",
    "    - 인스턴스에서 특정 속성에 접근하면, 인스턴스 -> 클래스 순으로 탐색\n",
    "  - 인스턴스 변수\n",
    "    - 인스턴스가 개인적으로 가지고 있는 속성(attribute)\n",
    "    - 각 인스턴스들의 고유한 변수\n",
    "    - 생성자 메서드(__init__)에서 self.<name>으로 정의 \n",
    "    - 인스턴스가 생성된 이후 <instance>.<name>으로 접근 및 할당\n",
    "  \n",
    "  - OOP 메서드\n",
    "    - `인스턴스 메서드`\n",
    "      - 인스턴스, 클래스 변수 모두 사용 가능\n",
    "      - 호출 시, 첫 번째 인자로 인스턴스 자기자신(self)이 자동으로 전달됨\n",
    "      - 매직 메서드: (`__`)가 있는 메서드는 특수한 동작을 위해 만들어진 것, 스페셜 혹은 매직 메서드라고 불림\n",
    "      - 생성자(`constructor`) 메서드: 인스턴스 객체가 생성될 때 자동으로 호출되는 메서드\n",
    "        - `__init__`메서드 자동 호출\n",
    "    - `클래스 메서드`\n",
    "      - 클래스 변수 사용, 인스턴스 변수 사용 불가능\n",
    "      - `@classmethod` 데코레이터를 사용하여 정의\n",
    "      - `데코레이터`: 함수를 어떤 함수로 꾸며서 새로운 기능을 부여, 순서대로 적용(순서가 중요)\n",
    "    - `스태틱 메서드`(정적 메서드)\n",
    "      - 인스턴트, 클래스 변수 둘다 사용하지 않을 경우(객체나 클래스 상태를 수정할 수 없음)\n",
    "      - `@staticmethod` 데코레이터를 사용하여 정의\n",
    "      - 일반 함수처럼 동작하지만, 클래스의 이름공간에 귀속됨(주로 해당 클래스로 한정하는 용도)\n"
   ]
  },
  {
   "cell_type": "code",
   "execution_count": 3,
   "metadata": {},
   "outputs": [
    {
     "name": "stdout",
     "output_type": "stream",
     "text": [
      "생성될 때 자동으로 불려요\n"
     ]
    }
   ],
   "source": [
    "class Person:\n",
    "    def __init__(self, name, age):\n",
    "        print('생성될 때 자동으로 불려요')\n",
    "        self.name =name\n",
    "        self.age = age\n",
    "\n",
    "aiden = Person('aiden', 23)"
   ]
  },
  {
   "cell_type": "code",
   "execution_count": 21,
   "metadata": {},
   "outputs": [
    {
     "name": "stdout",
     "output_type": "stream",
     "text": [
      "40000.0\n",
      "(50000, 40000.0)\n"
     ]
    }
   ],
   "source": [
    "# 정육점\n",
    "# 가격, 원산지, 종류, etc\n",
    "class Meat:\n",
    "    def __init__(self, stock):\n",
    "        self.stock = stock\n",
    "\n",
    "    def order_price(self, amount):\n",
    "    # 재고가 있으면 가격을 주고\n",
    "    # 재고가 없으면 재고가 없다고 말해주고 싶음\n",
    "        if self.stock >= amount:\n",
    "            # return Pig.belly_price * amount\n",
    "            return self.price * amount\n",
    "        else:\n",
    "            return '재고가 없음'\n",
    "            return f'재고가 {self.stock}만큼 있습니다.'\n",
    "\n",
    "    def order(self, amount, money):\n",
    "        price = self.order_price(amount)\n",
    "        if price <= money:\n",
    "            self.stock -= amount\n",
    "            change = money - price\n",
    "            return change\n",
    "        else:\n",
    "            return '못삼'\n",
    "\n",
    "class Pig(Meat):\n",
    "    price = 1000\n",
    "\n",
    "class Cow(Meat):\n",
    "    price = 10000\n",
    "\n",
    "\n",
    "    # 가격  \n",
    "    # 종류 + 가격 같이 -> 클래스 변수\n",
    "    # 재고량 -> 인스턴스 변수\n",
    "    # 주문이 들어왔을 때의 가격 -> 메서드\n",
    "\n",
    "   \n",
    "    def discount(self, amount, ratio):\n",
    "        price = self.order_price(amount) * (100 - ratio) / 100\n",
    "        return price\n",
    "\n",
    "    def return_price(self, amount, ratio):\n",
    "        price = self.order_price(amount)\n",
    "        price_dis = self.discount(amount, ratio)\n",
    "        return price, price_dis\n",
    "\n",
    "\n",
    "a_pig = Pig(100)\n",
    "b_pig = Pig(150)\n",
    "# print(a_pig.stock)\n",
    "# print(b_pig.stock)\n",
    "# print(a_pig.order(50, 10000000))\n",
    "# print(a_pig.stock)\n",
    "print(b_pig.discount(50, 20))\n",
    "print(b_pig.return_price(50, 20))\n",
    "\n",
    "\n",
    "\n",
    "# b 돼지의 가격이 20% 할인됨\n",
    "# b 돼지에서 원래 가격도 접근 가능함\n",
    "# b 돼지를 50만큼 샀을 때, 원래 가격, 할인된 가격 둘다 반환.\n"
   ]
  }
 ],
 "metadata": {
  "kernelspec": {
   "display_name": "Python 3",
   "language": "python",
   "name": "python3"
  },
  "language_info": {
   "codemirror_mode": {
    "name": "ipython",
    "version": 3
   },
   "file_extension": ".py",
   "mimetype": "text/x-python",
   "name": "python",
   "nbconvert_exporter": "python",
   "pygments_lexer": "ipython3",
   "version": "3.9.13 (tags/v3.9.13:6de2ca5, May 17 2022, 16:36:42) [MSC v.1929 64 bit (AMD64)]"
  },
  "orig_nbformat": 4,
  "vscode": {
   "interpreter": {
    "hash": "c4b9ebf4ca459396e2ad1150752490c26670c1a037c08cad955a4425787bec2e"
   }
  }
 },
 "nbformat": 4,
 "nbformat_minor": 2
}
