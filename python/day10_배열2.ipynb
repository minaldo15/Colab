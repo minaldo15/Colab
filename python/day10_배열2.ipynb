{
 "cells": [
  {
   "attachments": {},
   "cell_type": "markdown",
   "metadata": {},
   "source": [
    "# 2. 배열 2\n",
    "\n",
    "## 2차원 배열\n",
    "- 2차원 배열의 선언\n",
    "  - arr = [[0,1,2,3],[4,5,6,7]]"
   ]
  },
  {
   "cell_type": "code",
   "execution_count": null,
   "metadata": {},
   "outputs": [],
   "source": [
    "# 3\n",
    "# 1 2 3\n",
    "# 4 5 6\n",
    "# 7 8 9\n",
    "N = int(input())\n",
    "arr = [list(map(int, input().split())) for _ in range(N)]"
   ]
  },
  {
   "attachments": {},
   "cell_type": "markdown",
   "metadata": {},
   "source": [
    "- 배열 순회\n",
    "  - n X m 배열의 n*m개의 모든 원소를 빠짐없이 조사하는 방법\n",
    "\n",
    "- 행 우선 순회\n",
    "  - code\n",
    "- 열 우선 순회 \n",
    "  - i <-> j"
   ]
  },
  {
   "cell_type": "code",
   "execution_count": null,
   "metadata": {},
   "outputs": [],
   "source": [
    "# i 행의 좌표\n",
    "# j 행의 좌표\n",
    "for i in range(n):\n",
    "  for j in range(m):\n",
    "    arr[i][j] # 필요한 연산 수행"
   ]
  },
  {
   "attachments": {},
   "cell_type": "markdown",
   "metadata": {},
   "source": [
    "- 델타를 이용한 2차 배열 탐색\n",
    "  - 2차 배열의 한 좌표에서 4방향의 인접 배열 요소를 탐색하는 방법"
   ]
  },
  {
   "cell_type": "code",
   "execution_count": null,
   "metadata": {},
   "outputs": [],
   "source": [
    "di = [0,1,0,-1]\n",
    "dj = [1,0,-1,0]\n",
    "N = 3\n",
    "# P = 3\n",
    "for i in range(N):\n",
    "    for j in range(N):\n",
    "        for k in range(4):\n",
    "            # for l in range(1, P + 1):\n",
    "                ni = i+di[k] # * l\n",
    "                nj = j+dj[k] # * l\n",
    "                if 0 <= ni < N and 0 <= nj < N:\n",
    "                    print(i, j ,ni, nj)"
   ]
  },
  {
   "cell_type": "code",
   "execution_count": null,
   "metadata": {},
   "outputs": [],
   "source": [
    "N = 3\n",
    "for i in range(N):\n",
    "    for j in range(N):\n",
    "        for di, dj in [[0,1],[1,0],[0,-1],[-1,0]]:\n",
    "            ni, nj = i+di, j+dj\n",
    "            if 0 <= ni < N and 0 <= nj < N:\n",
    "                print(i, j ,ni, nj)"
   ]
  },
  {
   "attachments": {},
   "cell_type": "markdown",
   "metadata": {},
   "source": [
    "- 전치 행렬"
   ]
  },
  {
   "cell_type": "code",
   "execution_count": null,
   "metadata": {},
   "outputs": [],
   "source": [
    "# i: 행의 좌표, len(arr)\n",
    "# j: 행의 좌표, len(arr[0])\n",
    "arr = [[1,2,3],[4,5,6],[7,8,9]] # 3*3 행렬\n",
    "\n",
    "for i in range(3):\n",
    "    for j in range(3):\n",
    "        if i < j:\n",
    "            arr[i][j], arr[i][j] = arr[j][i], arr[i][j]\n",
    "\n"
   ]
  },
  {
   "cell_type": "code",
   "execution_count": null,
   "metadata": {},
   "outputs": [],
   "source": [
    "# 연습문제 1\n",
    "# arr = []\n",
    "# for i in range(1, 26):\n",
    "#     arr.append(int(i))\n",
    "\n",
    "lst = []\n",
    "for i in range(5):\n",
    "    for j in range(5):\n",
    "        for di, dj in [[0,1],[1,0],[0,-1],[-1,0]]:\n",
    "            ni, nj = i+di, j+dj\n",
    "            if 0 <= ni < N and 0 <= nj < N:\n",
    "                 lst.append(abs(arr[i][j] - arr[ni][nj]))\n",
    "result = sum(lst)\n",
    "# print(result)\n",
    "                 \n"
   ]
  },
  {
   "cell_type": "code",
   "execution_count": null,
   "metadata": {},
   "outputs": [],
   "source": [
    "# 부분집합 생성하기\n",
    "A = [1,2,3,4]\n",
    "bit = [0]*4\n",
    "for i in range(2):\n",
    "    bit[0] = i\n",
    "    for j in range(2):\n",
    "        bit[1] = j\n",
    "        for k in range(2):\n",
    "            bit[2] = k\n",
    "            for l in range(2):\n",
    "                bit[3] = l\n",
    "                s = 0\n",
    "                print(bit, end=' ')\n",
    "                for p in range(4):\n",
    "                    if bit[p]:\n",
    "                        print(A[p], end=' ' )\n",
    "                        s += A[p]\n",
    "                print(s)"
   ]
  },
  {
   "attachments": {},
   "cell_type": "markdown",
   "metadata": {},
   "source": [
    "- 비트 연산자\n",
    "  - & 비트 단위로 AND 연산을 한다.\n",
    "  - | 비트 단위로 OR 연산을 한다.\n",
    "  - << 피연산자의 비트 열을 왼쪽으로 이동시킨다.\n",
    "  - >> 피연산자의 비트 열을 오른쪽으로 이동시킨다.\n",
    "- << 연산자\n",
    "  - 1 << n: 2**n 즉, 원소가 n개일 경우의 모든 부분집합의 수를 의미\n",
    "- i & (1<<j): i의 j번째 비트가 1인지 아닌지를 검사한다."
   ]
  },
  {
   "cell_type": "code",
   "execution_count": 25,
   "metadata": {},
   "outputs": [
    {
     "name": "stdout",
     "output_type": "stream",
     "text": [
      "&(AND) : 0b10001\n",
      "|(OR) : 0b11001\n",
      "<< 2 : 0b1100100 0b1000100\n",
      ">> 2 : 0b110 0b100\n"
     ]
    }
   ],
   "source": [
    "a = 0b11001\n",
    "b = 0b10001\n",
    "# &(AND) : 양쪽 모두 1있으면 1 -> 교집합\n",
    "print(\"&(AND) :\", bin(a & b))\n",
    "# |(OR) : 어느 한쪽에라도 1 있으면 1 -> 합집합\n",
    "print(\"|(OR) :\", bin(a | b))\n",
    "# # ^(XOR) : 양쪽 값이 다르면 1\n",
    "# print(\"^(XOR) :\", bin(a ^ b))\n",
    "# # # ~(NOT) : 비트의 값 반전\n",
    "# print(\"~(NOT) :\", bin(~a), bin(~b))\n",
    "# # bit << i: 비트 왼쪽으로 i칸만큼 이동(bit * i^2 과 같음)\n",
    "print(\"<< 2 :\", bin(a << 2), bin(b << 2))\n",
    "# # bit >> i : 비트 오른쪽으로 i칸만큼 이동(bit // i^2 과 같음)\n",
    "print(\">> 2 :\", bin(a >> 2), bin(b >> 2))"
   ]
  },
  {
   "cell_type": "code",
   "execution_count": 28,
   "metadata": {},
   "outputs": [
    {
     "name": "stdout",
     "output_type": "stream",
     "text": [
      "0b11010110\n",
      "인덱스 3 원소 추가 : 0b11011110\n",
      "인덱스 6 원소 삭제 : 0b10010110\n",
      "인덱스 5 원소 조회 : 0b0\n"
     ]
    }
   ],
   "source": [
    "s = 0b0011010110\n",
    "print(bin(s))\n",
    "# n번째 인덱스 원소 추가\n",
    "n = 3\n",
    "print(\"인덱스 3 원소 추가 :\", bin(s | (1 << n)))\n",
    "# n번째 인덱스 원소 삭제\n",
    "n = 6\n",
    "print(\"인덱스 6 원소 삭제 :\", bin(s & ~(1 << n)))\n",
    "# # n번째 인덱스 원소 조회 : 0이면 없음, 0 아니면 있음\n",
    "n = 5\n",
    "print(\"인덱스 5 원소 조회 :\", bin(s & (1 << n)))\n",
    "# n = 4\n",
    "# print(\"인덱스 4 원소 조회 :\", bin(s & (1 << n)))\n",
    "# # n번째 인덱스 원소 토글 : 없으면 생성, 있으면 삭제\n",
    "# n = 3\n",
    "# print(\"인덱스 3 원소 토글 :\", bin(s ^ (1 << n)))\n",
    "# n = 7\n",
    "# print(\"인덱스 7 원소 토글 :\", bin(s ^ (1 << n)))"
   ]
  },
  {
   "cell_type": "code",
   "execution_count": 85,
   "metadata": {},
   "outputs": [
    {
     "name": "stdout",
     "output_type": "stream",
     "text": [
      "4\n"
     ]
    }
   ],
   "source": [
    "s = 0b0011110110\n",
    "print(4 & (1<<2))"
   ]
  },
  {
   "cell_type": "code",
   "execution_count": null,
   "metadata": {},
   "outputs": [],
   "source": [
    "# 간결하게 부분집합 생성하는 법\n",
    "arr = [3,6,7,1,5,4]\n",
    "n = len(arr) # n: 원소의 개수\n",
    "for i in range(1<<n): # 1<<n: 부분 집합의 개수\n",
    "    for j in range(n): # 원소의 수만큼 비트를 비교함\n",
    "        if i & (1<<j): # i의 j번 비트가 1인경우\n",
    "            print(arr[j], end=', ') # j번 원소 출력\n",
    "    print()\n",
    "print()"
   ]
  }
 ],
 "metadata": {
  "kernelspec": {
   "display_name": "Python 3",
   "language": "python",
   "name": "python3"
  },
  "language_info": {
   "codemirror_mode": {
    "name": "ipython",
    "version": 3
   },
   "file_extension": ".py",
   "mimetype": "text/x-python",
   "name": "python",
   "nbconvert_exporter": "python",
   "pygments_lexer": "ipython3",
   "version": "3.9.13"
  },
  "orig_nbformat": 4,
  "vscode": {
   "interpreter": {
    "hash": "c4b9ebf4ca459396e2ad1150752490c26670c1a037c08cad955a4425787bec2e"
   }
  }
 },
 "nbformat": 4,
 "nbformat_minor": 2
}
