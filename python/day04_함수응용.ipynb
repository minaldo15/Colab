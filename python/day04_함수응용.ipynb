{
 "cells": [
  {
   "cell_type": "code",
   "execution_count": 3,
   "metadata": {},
   "outputs": [
    {
     "name": "stdout",
     "output_type": "stream",
     "text": [
      "[10, 20, 30, 40, 50]\n"
     ]
    }
   ],
   "source": [
    "def ten(n):\n",
    "    return n * 10\n",
    "\n",
    "lst = [1,2,3,4,5]\n",
    "result = map(ten,lst)\n",
    "print(list(result))"
   ]
  },
  {
   "cell_type": "code",
   "execution_count": null,
   "metadata": {},
   "outputs": [],
   "source": [
    "def odd(n):\n",
    "    return n % 2\n",
    "numbers = [1,2,3]\n",
    "result = filter(odd, numbers)\n",
    "print(type(result)) # <class 'filter'>\n",
    "print(list(result)) # [1, 3]"
   ]
  },
  {
   "cell_type": "code",
   "execution_count": 4,
   "metadata": {},
   "outputs": [
    {
     "name": "stdout",
     "output_type": "stream",
     "text": [
      "<class 'zip'>\n",
      "[('jane', 'justin'), ('ashley', 'eric')]\n"
     ]
    }
   ],
   "source": [
    "girls = ['jane', 'ashley']\n",
    "boys = ['justin', 'eric']\n",
    "pair = zip(girls, boys)\n",
    "print(type(pair)) # <class 'zip'>\n",
    "print(list(pair)) # [('jane', 'justin'), ('ashley', 'eric')]"
   ]
  },
  {
   "cell_type": "code",
   "execution_count": 12,
   "metadata": {},
   "outputs": [
    {
     "name": "stdout",
     "output_type": "stream",
     "text": [
      "[10, 20, 30, 40, 50]\n",
      "[10, 20, 30, 40, 50]\n"
     ]
    }
   ],
   "source": [
    "def ten(n):\n",
    "    return n * 10\n",
    "\n",
    "lst = [1,2,3,4,5]\n",
    "\n",
    "result = map(ten,lst)\n",
    "print(list(result))\n",
    "#--------------------\n",
    "rlt = lambda x: x * 10\n",
    "obj = map(rlt, lst)\n",
    "print(list(obj))\n"
   ]
  },
  {
   "cell_type": "code",
   "execution_count": 3,
   "metadata": {},
   "outputs": [
    {
     "name": "stdout",
     "output_type": "stream",
     "text": [
      "120\n"
     ]
    }
   ],
   "source": [
    "# 팩토리얼(재귀 함수)\n",
    "# n! = n * (n-1)!\n",
    "def fac(n):\n",
    "    if n == 0 or n == 1:\n",
    "        return 1 # fac(0),fac(1) = 1 (0!, 1! = 1)\n",
    "    return n * fac(n - 1)\n",
    "print(fac(5))"
   ]
  },
  {
   "cell_type": "code",
   "execution_count": 5,
   "metadata": {},
   "outputs": [
    {
     "name": "stdout",
     "output_type": "stream",
     "text": [
      "(1, 2, 3, 'a', 'b')\n",
      "<class 'tuple'>\n"
     ]
    }
   ],
   "source": [
    "def func(*args):\n",
    "    print(args)\n",
    "    print(type(args))\n",
    "func(1,2,3,'a','b')"
   ]
  },
  {
   "cell_type": "code",
   "execution_count": 8,
   "metadata": {},
   "outputs": [
    {
     "name": "stdout",
     "output_type": "stream",
     "text": [
      "(1, 2, 7)\n"
     ]
    }
   ],
   "source": [
    "def sum_all(a,b,*numbers):\n",
    "    result = 0\n",
    "    for number in numbers:\n",
    "        result += number\n",
    "    return a,b,result\n",
    "\n",
    "print(sum_all(1,2,3,4))"
   ]
  },
  {
   "cell_type": "code",
   "execution_count": 18,
   "metadata": {},
   "outputs": [
    {
     "name": "stdout",
     "output_type": "stream",
     "text": [
      "{'name': 'aiden', 'age': 21}\n"
     ]
    }
   ],
   "source": [
    "def test(**kwargs):\n",
    "    print(kwargs)\n",
    "    # kwargs['name']\n",
    "    # return kwargs\n",
    "\n",
    "test(name = 'aiden', age = 21)"
   ]
  },
  {
   "attachments": {},
   "cell_type": "markdown",
   "metadata": {},
   "source": [
    "1. 함수 응용\n",
    "\n",
    "   - 내장함수 \n",
    "     - `map`(function, iterable) : `순회 가능한 데이터구조(iterable)의 모든 요소에 함수(fuction)적용하고`, 그 결과를 map object로 반환(type => map)\n",
    "\n",
    "     - `filter`(fuction, iterable) : `~~`, 그 결과가 True인 것들을 filter object로 반환\n",
    "\n",
    "     - `zip`(*iterables) : 복수의 iterable을 모아 튜플을 원소로 하는 zip object를 반환\n",
    "  \n",
    "     - `lambda` 함수\n",
    "       - 표현식 : lamda[parameter]\n",
    "       - 표현식을 계산한 결괏값을 반환, 익명 함수\n",
    "       - `return`문 X\n",
    "       - 간편 조건문 외 조건문이나 반복문 X\n",
    "       - 장점 : 간결, `def`없이 사용가능\n",
    "  \n",
    "     - 재귀 함수(`recursive function`)\n",
    "       - 자기 자신을 호출하는 함수\n",
    "       - 무한한 호출이 목적 X, 알고리즘 설계 및 구현에서 유용\n",
    "         - 재귀 함수로 로직을 표현하기 쉬운 경우가 있음(점화식)\n",
    "         - 변수의 사용이 줄고, 코드의 가독성이 높아짐\n",
    "       - 1 개 이상의 base case(종료되는 상황)가 존재하고, 수렴하도록 작성(안그러면 `Recursion Error`발생)\n",
    "       - `재귀 함수가 나오면 펜을 꺼내 그림 그려봐라`\n",
    "  \n",
    "2. 함수 가변 입력\n",
    "\n",
    "   - 패킹 / 언패킹\n",
    "   - `Asterisk(*)`와 가변 인자(`*args`)\n",
    "   - 가변 키워드 인자(`**kwargs`)\n",
    "\n",
    "\n",
    "3. 모듈과 패키지\n",
    "\n",
    "   - 다양한 기능 -> 하나의 파일(모듈)로\n",
    "     - 다양한 파일(`모듈`)을 하나의 폴더(`패키지`)로\n",
    "       - 다양한 폴더(`패키지`)를 하나의 묶음(`라이브러리`)로\n",
    "         - 이 묶음(`라이브러리`)을 관리하는 관리자(`pip`)\n",
    "\n",
    "- 모듈\n",
    "  - 특정 기능을 하는 코드를 파이썬 파일(`.py`)단위로 작성한 것\n",
    "- 패키지\n",
    "  - 특정 기능과 관련된 여러 모듈의 집함\n",
    "\n",
    "- 모듈과 패키지 불러오기\n",
    "```python\n",
    "import module\n",
    "from module import *(var, fuction, Class, '등등')\n",
    "\n",
    "from package import module\n",
    "from package.module import var, fuction, Class\n",
    "```\n",
    "\n",
    "\n",
    "\n",
    "4. 가상환경\n",
    "   - `패키지`(폴더)안에 `__init__.py`라는 파일 생성하면 그 폴더를 `패키지`로 인식\n",
    "     - `calc` 폴더 안에 `tools.py` 모듈 안에 함수 정의 후 `calc` 폴더 밖에서(`check.py`) 검증하려면 `calc` 을 패키지로 정의해야 함(`__init__.py` 를 통해)"
   ]
  },
  {
   "cell_type": "code",
   "execution_count": 38,
   "metadata": {},
   "outputs": [
    {
     "name": "stdout",
     "output_type": "stream",
     "text": [
      "None\n",
      "[1, 2, 3]\n"
     ]
    }
   ],
   "source": [
    "# import random\n",
    "\n",
    "# num_list = [1,2,3,4]\n",
    "# random.shuffle(num_list)\n",
    "# print(num_list)\n",
    "\n",
    "x = [1, 2]\n",
    "def func(x) :\n",
    "    x.append(3)\n",
    "\n",
    "print(func(x))\n",
    "print(x)"
   ]
  },
  {
   "cell_type": "code",
   "execution_count": null,
   "metadata": {},
   "outputs": [],
   "source": []
  }
 ],
 "metadata": {
  "kernelspec": {
   "display_name": "Python 3",
   "language": "python",
   "name": "python3"
  },
  "language_info": {
   "codemirror_mode": {
    "name": "ipython",
    "version": 3
   },
   "file_extension": ".py",
   "mimetype": "text/x-python",
   "name": "python",
   "nbconvert_exporter": "python",
   "pygments_lexer": "ipython3",
   "version": "3.9.13"
  },
  "orig_nbformat": 4,
  "vscode": {
   "interpreter": {
    "hash": "c4b9ebf4ca459396e2ad1150752490c26670c1a037c08cad955a4425787bec2e"
   }
  }
 },
 "nbformat": 4,
 "nbformat_minor": 2
}
