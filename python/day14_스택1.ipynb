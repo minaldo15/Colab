{
 "cells": [
  {
   "attachments": {},
   "cell_type": "markdown",
   "metadata": {},
   "source": [
    "### 스택의 응용2: function call\n",
    "- 프로그램에서의 함수 호출과 복귀에 따른 수행 순서를 관리\n",
    "  - 함수 호출이 발생하면 호출한 함수 수행에 필요한 정보를 스택 프레임에 저장하여 시스템 스택에 삽입\n",
    "  - 함수의 실행이 끝나면 시스템 스택의 top원소(스택 프레임)를 삭제(pop)하면서 프레임에 저장되어 있던 복귀주소를 확인하고 복귀\n",
    "  - 함수 호출과 복귀에 따라 이 과정을 반복하여 전체 프로그램 수행이 종료되면 시스템 스택은 공백 스택이 된다."
   ]
  },
  {
   "attachments": {},
   "cell_type": "markdown",
   "metadata": {},
   "source": [
    "## 재귀호출\n",
    "- 자기 자신을 호출하여 순환 수행되는 것\n",
    "- 작업의 특성에 따라 일반적인 호출방식보다 프로그램 크기를 줄일 수 있음\n",
    "- "
   ]
  },
  {
   "cell_type": "code",
   "execution_count": null,
   "metadata": {},
   "outputs": [],
   "source": [
    "def fibo(n):\n",
    "    if n < 2:\n",
    "        return n\n",
    "    else:\n",
    "        return fibo(n-1) +fibo(n-2)\n",
    "# 엄청난 중복 호출이 존재"
   ]
  },
  {
   "attachments": {},
   "cell_type": "markdown",
   "metadata": {},
   "source": [
    "## Memoization\n",
    "메모이제이션은 컴퓨터 프로그램을 실행할 때 이전에 계산한 값을 메모리에 저장해서 매번 다시 계산하지 않도록 하여 전체적인 실행속도를 빠르게 하는 기술(동적 계획법의 핵심)"
   ]
  },
  {
   "attachments": {},
   "cell_type": "markdown",
   "metadata": {},
   "source": [
    "## DP\n",
    "- 동적 계획(`Dynamic Programming`)알고리즘은 그리디 알고리즘과 같이 최적화 문제를 해결하는 알고리즘이다.\n",
    "- DP의 구현 방식\n",
    "  - `recursive` 방식: fibo1()\n",
    "  - `iterative` 방식: fibo2()"
   ]
  },
  {
   "cell_type": "code",
   "execution_count": null,
   "metadata": {},
   "outputs": [],
   "source": [
    "# f를 위한 배열을 할당하고, 모두 0으로 초기화 한다;\n",
    "# f[0]을 0으로 f[1]은 1로 초기화 한다;\n",
    "\n",
    "def fibo1(n):\n",
    "    memo = [0] * (n + 1)\n",
    "    memo[0] = 0\n",
    "    memo[1] = 1\n",
    "    # global memo\n",
    "    if n >= 2 and memo[n] == 0:\n",
    "        memo[n] = (fibo1(n-1) + fibo1(n-2))\n",
    "\n",
    "    return memo[n]\n",
    "\n",
    "# memo = [0] * (n + 1)\n",
    "# memo[0] = 0\n",
    "# memo[1] = 1\n",
    "\n",
    "\n",
    "\n",
    "print(fibo1(6))"
   ]
  },
  {
   "cell_type": "code",
   "execution_count": 29,
   "metadata": {},
   "outputs": [
    {
     "name": "stdout",
     "output_type": "stream",
     "text": [
      "13\n"
     ]
    }
   ],
   "source": [
    "def fibo2(n):\n",
    "    memo = [0] * (n + 1)\n",
    "    memo[0] = 0\n",
    "    memo[1] = 1\n",
    "    for i in range(2, n + 1):\n",
    "        memo[i] = memo[i-1] + memo[i-2]\n",
    "\n",
    "    return memo[n]\n",
    "\n",
    "print(fibo2(7))"
   ]
  },
  {
   "attachments": {},
   "cell_type": "markdown",
   "metadata": {},
   "source": [
    "## DFS(깊이우선탐색)\n",
    "- 비선형구조인 그래프 구조는 그래프로 표현된 모든 자료를 빠짐없이 검색하는 것이 중요\n",
    "- 두 가지 방법\n",
    "  - 깊이 우선 탐색(Depth First Search, DFS)\n",
    "  - 너비 우선 탐색(Breadth First Search, DFS)\n",
    "- DFS\n",
    "  - 한 방향의 정점까지 탐색한 후, 가장 마지막에 만났던 갈림길이 있는 정점으로 되돌아와서 다른 방향의 정점으로 탐색을 계속 반복하여 결국 모든 정점을 방문하는 순회방법\n",
    "  - 가장 마지막에 만났던 갈림길의 정점으로 되돌아가서 다시 깊이 우선 탐색을 반복해야 하므로 후입선출 구조의 `스택` 사용\n",
    "\n"
   ]
  },
  {
   "cell_type": "code",
   "execution_count": 30,
   "metadata": {},
   "outputs": [
    {
     "name": "stdout",
     "output_type": "stream",
     "text": [
      "[[0, 0, 0, 0, 0, 0, 0, 0], [0, 0, 1, 1, 0, 0, 0, 0], [0, 1, 0, 0, 1, 1, 0, 0], [0, 1, 0, 0, 0, 0, 0, 1], [0, 0, 1, 0, 0, 0, 1, 0], [0, 0, 1, 0, 0, 0, 1, 0], [0, 0, 0, 0, 1, 1, 0, 1], [0, 0, 0, 1, 0, 0, 1, 0]]\n",
      "[[], [2, 3], [1, 4, 5], [1, 7], [2, 6], [2, 6], [4, 5, 7], [6, 3]]\n"
     ]
    }
   ],
   "source": [
    "# 연습문제3\n",
    "# 7 8 \n",
    "# 1 2 1 3 2 4 2 5 4 6 5 6 6 7 3 7\n",
    "V, E = map(int, input().split()) # V: 정점 개수 E: 연결선 개수\n",
    "arr = list(map(int, input().split()))\n",
    "adjm = [[0]*(V+1) for _ in range(V+1)] # 인접행렬\n",
    "adjl = [[] for _ in range(V+1)] # 인접리스트\n",
    "for i in range(E):\n",
    "    v1, v2 = arr[i*2], arr[i*2+1]\n",
    "    adjm[v1][v2] = 1\n",
    "    adjm[v2][v1] = 1\n",
    "\n",
    "    adjl[v1].append(v2)\n",
    "    adjl[v2].append(v1)\n",
    "print(adjm)\n",
    "print(adjl)\n",
    "\n"
   ]
  }
 ],
 "metadata": {
  "kernelspec": {
   "display_name": "Python 3",
   "language": "python",
   "name": "python3"
  },
  "language_info": {
   "codemirror_mode": {
    "name": "ipython",
    "version": 3
   },
   "file_extension": ".py",
   "mimetype": "text/x-python",
   "name": "python",
   "nbconvert_exporter": "python",
   "pygments_lexer": "ipython3",
   "version": "3.9.13"
  },
  "orig_nbformat": 4,
  "vscode": {
   "interpreter": {
    "hash": "c4b9ebf4ca459396e2ad1150752490c26670c1a037c08cad955a4425787bec2e"
   }
  }
 },
 "nbformat": 4,
 "nbformat_minor": 2
}
