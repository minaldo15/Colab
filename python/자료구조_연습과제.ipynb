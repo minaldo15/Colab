{
  "nbformat": 4,
  "nbformat_minor": 0,
  "metadata": {
    "colab": {
      "provenance": [],
      "authorship_tag": "ABX9TyNJV3PLnKi+FK2H/CcTNdvW",
      "include_colab_link": true
    },
    "kernelspec": {
      "name": "python3",
      "display_name": "Python 3"
    },
    "language_info": {
      "name": "python"
    }
  },
  "cells": [
    {
      "cell_type": "markdown",
      "metadata": {
        "id": "view-in-github",
        "colab_type": "text"
      },
      "source": [
        "<a href=\"https://colab.research.google.com/github/minaldo15/Colab/blob/main/%EC%9E%90%EB%A3%8C%EA%B5%AC%EC%A1%B0_%EC%97%B0%EC%8A%B5%EA%B3%BC%EC%A0%9C.ipynb\" target=\"_parent\"><img src=\"https://colab.research.google.com/assets/colab-badge.svg\" alt=\"Open In Colab\"/></a>"
      ]
    },
    {
      "cell_type": "markdown",
      "source": [
        "# 자료구조_연습과제"
      ],
      "metadata": {
        "id": "PfAbq8Pwi_jk"
      }
    },
    {
      "cell_type": "code",
      "execution_count": null,
      "metadata": {
        "id": "yP9pmOBli5Ri"
      },
      "outputs": [],
      "source": [
        "# 주어진 문자열에서 숫자, 문자, 기호가\n",
        "# 각각 몇개인지를 판단하는 함수를 작성해보시오.\n",
        "target_str = '123강아지 !@#'\n",
        "\n",
        "def check(target_str):\n",
        "    count_alp = 0\n",
        "    count_num = 0\n",
        "    count_els = 0\n",
        "    lst_target = list(target_str)\n",
        "    for i in lst_target:\n",
        "        if i.isalpha() == True:\n",
        "            count_alp += 1\n",
        "        elif i.isnumeric() == True:\n",
        "            count_num += 1\n",
        "        elif i == ' ':\n",
        "            pass\n",
        "        else:\n",
        "            count_els += 1\n",
        "    return f'문자: {count_alp}개, 숫자: {count_num}개, 기호: {count_els}개' \n",
        "print(check(target_str))\n",
        "\n",
        "# 문자: 3개, 숫자: 3개, 기호: 3개"
      ]
    }
  ]
}