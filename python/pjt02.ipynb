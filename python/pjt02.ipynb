{
 "cells": [
  {
   "attachments": {},
   "cell_type": "markdown",
   "metadata": {},
   "source": [
    "# PJT\n",
    "## 01/27\n",
    "- "
   ]
  },
  {
   "cell_type": "code",
   "execution_count": 3,
   "metadata": {},
   "outputs": [
    {
     "name": "stdout",
     "output_type": "stream",
     "text": [
      "{'adult': False,\n",
      " 'backdrop_path': '/nlCHUWjY9XWbuEUQauCBgnY8ymF.jpg',\n",
      " 'belongs_to_collection': {'backdrop_path': '/gwYe803SFwKlCF5y71OicWHUnVD.jpg',\n",
      "                           'id': 8945,\n",
      "                           'name': 'Mad Max Collection',\n",
      "                           'poster_path': '/bmzns8d1tz3P2EWoz2JQeqnu9Ck.jpg'},\n",
      " 'budget': 150000000,\n",
      " 'genres': [{'id': 28, 'name': 'Action'},\n",
      "            {'id': 12, 'name': 'Adventure'},\n",
      "            {'id': 878, 'name': 'Science Fiction'}],\n",
      " 'homepage': 'https://www.warnerbros.com/movies/mad-max-fury-road',\n",
      " 'id': 76341,\n",
      " 'imdb_id': 'tt1392190',\n",
      " 'original_language': 'en',\n",
      " 'original_title': 'Mad Max: Fury Road',\n",
      " 'overview': 'An apocalyptic story set in the furthest reaches of our planet, '\n",
      "             'in a stark desert landscape where humanity is broken, and most '\n",
      "             'everyone is crazed fighting for the necessities of life. Within '\n",
      "             'this world exist two rebels on the run who just might be able to '\n",
      "             'restore order.',\n",
      " 'popularity': 71.051,\n",
      " 'poster_path': '/8tZYtuWezp8JbcsvHYO0O46tFbo.jpg',\n",
      " 'production_companies': [{'id': 79,\n",
      "                           'logo_path': '/tpFpsqbleCzEE2p5EgvUq6ozfCA.png',\n",
      "                           'name': 'Village Roadshow Pictures',\n",
      "                           'origin_country': 'US'},\n",
      "                          {'id': 174,\n",
      "                           'logo_path': '/IuAlhI9eVC9Z8UQWOIDdWRKSEJ.png',\n",
      "                           'name': 'Warner Bros. Pictures',\n",
      "                           'origin_country': 'US'},\n",
      "                          {'id': 2537,\n",
      "                           'logo_path': None,\n",
      "                           'name': 'Kennedy Miller Productions',\n",
      "                           'origin_country': 'AU'},\n",
      "                          {'id': 41624,\n",
      "                           'logo_path': '/wzKxIeQKlMP0y5CaAw25MD6EQmf.png',\n",
      "                           'name': 'RatPac Entertainment',\n",
      "                           'origin_country': 'US'}],\n",
      " 'production_countries': [{'iso_3166_1': 'AU', 'name': 'Australia'},\n",
      "                          {'iso_3166_1': 'US',\n",
      "                           'name': 'United States of America'},\n",
      "                          {'iso_3166_1': 'ZA', 'name': 'South Africa'}],\n",
      " 'release_date': '2015-05-13',\n",
      " 'revenue': 378858340,\n",
      " 'runtime': 121,\n",
      " 'spoken_languages': [{'english_name': 'English',\n",
      "                       'iso_639_1': 'en',\n",
      "                       'name': 'English'}],\n",
      " 'status': 'Released',\n",
      " 'tagline': 'What a Lovely Day.',\n",
      " 'title': 'Mad Max: Fury Road',\n",
      " 'video': False,\n",
      " 'vote_average': 7.569,\n",
      " 'vote_count': 20178}\n"
     ]
    }
   ],
   "source": [
    "# requests 사용 예시 1\n",
    "\n",
    "import requests\n",
    "from pprint import pprint\n",
    "\n",
    "\n",
    "URL = 'https://api.themoviedb.org/3/movie/76341?'\n",
    "\n",
    "params = {\n",
    "    'api_key' : '8f1866859a8db0283c297a4d35b1941f'\n",
    "}\n",
    "\n",
    "response = requests.get(URL, params=params).json()\n",
    "pprint(response)"
   ]
  }
 ],
 "metadata": {
  "kernelspec": {
   "display_name": "Python 3",
   "language": "python",
   "name": "python3"
  },
  "language_info": {
   "codemirror_mode": {
    "name": "ipython",
    "version": 3
   },
   "file_extension": ".py",
   "mimetype": "text/x-python",
   "name": "python",
   "nbconvert_exporter": "python",
   "pygments_lexer": "ipython3",
   "version": "3.9.13"
  },
  "orig_nbformat": 4,
  "vscode": {
   "interpreter": {
    "hash": "c4b9ebf4ca459396e2ad1150752490c26670c1a037c08cad955a4425787bec2e"
   }
  }
 },
 "nbformat": 4,
 "nbformat_minor": 2
}
