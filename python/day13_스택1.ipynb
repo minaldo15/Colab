{
 "cells": [
  {
   "attachments": {},
   "cell_type": "markdown",
   "metadata": {},
   "source": [
    "# 스택1"
   ]
  },
  {
   "attachments": {},
   "cell_type": "markdown",
   "metadata": {},
   "source": [
    "## 스택\n",
    "- 스택에 저장된 자료는 선형 구조를 갖는다.\n",
    "- 후입선출(`LIFO`)\n",
    "- 스택을 프로그램에서 구현하기 위해 필요한 자료구조와 연산\n",
    "  - 자료구조: 자료를 선형으로 저장할 저장소\n",
    "    - 배열을 사용할 수 있다.\n",
    "    - 저장소 자체를 스택이라 부르기도 한다.\n",
    "    - 스택에서 마지막 삽입된 원소의 위치를 `top`라 부른다.\n",
    "  - 연산\n",
    "    - 삽입: 저장소에 자료를 저장한다. `push`\n",
    "    - 삭제: 저장소에서 자료를 꺼낸다. `pop`\n",
    "    - 스택이 공백인지 확인하는 연산. `isEmpty`\n",
    "    - 스택의 top에 있는 item을 반환하는 연산. `peek`"
   ]
  },
  {
   "cell_type": "code",
   "execution_count": 2,
   "metadata": {},
   "outputs": [
    {
     "name": "stdout",
     "output_type": "stream",
     "text": [
      "[10, 0, 0, 0, 0, 0, 0, 0, 0, 0]\n"
     ]
    }
   ],
   "source": [
    "def push(item, size):\n",
    "    global top\n",
    "    top += 1\n",
    "    if top == size:\n",
    "        print('overflow')\n",
    "    else:\n",
    "        stack[top] = item\n",
    "\n",
    "size = 10\n",
    "stack = [0] * size\n",
    "top = -1\n",
    "\n",
    "push(10, size)\n",
    "print(stack)"
   ]
  },
  {
   "cell_type": "code",
   "execution_count": 3,
   "metadata": {},
   "outputs": [
    {
     "name": "stdout",
     "output_type": "stream",
     "text": [
      "10\n"
     ]
    }
   ],
   "source": [
    "def pop():\n",
    "    global top\n",
    "    if top == -1:\n",
    "        print('underflow')\n",
    "        return 0\n",
    "    else:\n",
    "        top -= 1\n",
    "        return stack[top+1]\n",
    "print(pop())\n",
    "\n",
    "# if top > -1:\n",
    "#     top -= 1\n",
    "#     print(stack[top+1])"
   ]
  },
  {
   "cell_type": "code",
   "execution_count": null,
   "metadata": {},
   "outputs": [],
   "source": [
    "a = []\n",
    "print(a.pop())"
   ]
  },
  {
   "attachments": {},
   "cell_type": "markdown",
   "metadata": {},
   "source": [
    "### 스택의 응용1: 괄호검사"
   ]
  },
  {
   "attachments": {},
   "cell_type": "markdown",
   "metadata": {},
   "source": [
    "### 스택의 응용2: function call\n",
    "- 프로그램에서의 함수 호출과 복귀에 따른 수행 순서를 관리\n",
    "  - 함수 호출이 발생하면 호출한 함수 수행에 필요한 정보를 스택 프레임에 저장하여 시스템 스택에 삽입\n",
    "  - 함수의 실행이 끝나면 시스템 스택의 top원소(스택 프레임)를 삭제(pop)하면서 프레임에 저장되어 있던 복귀주소를 확인하고 복귀\n",
    "  - 함수 호출과 복귀에 따라 이 과정을 반복하여 전체 프로그램 수행이 종료되면 시스템 스택은 공백 스택이 된다."
   ]
  }
 ],
 "metadata": {
  "kernelspec": {
   "display_name": "Python 3",
   "language": "python",
   "name": "python3"
  },
  "language_info": {
   "codemirror_mode": {
    "name": "ipython",
    "version": 3
   },
   "file_extension": ".py",
   "mimetype": "text/x-python",
   "name": "python",
   "nbconvert_exporter": "python",
   "pygments_lexer": "ipython3",
   "version": "3.9.13"
  },
  "orig_nbformat": 4,
  "vscode": {
   "interpreter": {
    "hash": "c4b9ebf4ca459396e2ad1150752490c26670c1a037c08cad955a4425787bec2e"
   }
  }
 },
 "nbformat": 4,
 "nbformat_minor": 2
}
