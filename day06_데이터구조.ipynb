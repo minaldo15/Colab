{
 "cells": [
  {
   "attachments": {},
   "cell_type": "markdown",
   "metadata": {},
   "source": [
    "## 순서가 없는 데이터 구조\n",
    "\n",
    "- 셋(`Set`)\n",
    "  - Set이란 중복되는 요소가 없이, 순서에 상관없는 데이터들의 묶음\n",
    "    - 데이터의 중복을 허용하지 않기 때문에 중복되는 원소가 있다면 하나만 저장\n",
    "    - 순서가 없기 때문에 인덱스를 이용한 접근 불가능\n",
    "  - 수학에서의 집합을 표현한 컨테이너\n",
    "    - 집합 연산이 가능(여집합을 표현하는 연산자는 별도로 존재X)\n",
    "    - 중복된 값이 존재하지 않음\n",
    "  - 담고 있는 요소를 삽입 변경, 삭제 가능 -> 가변 자료형(`mutable`)\n",
    "\n",
    "  - 셋 메서드(s는 셋)\n",
    "    - s.`copy`()\n",
    "    - s.`add`(x) 셋에 값을 추가\n",
    "    - s.`pop`() 임의의 원소를 제거해 반환\n",
    "    - s.`remove`(x) x가 set에 없으면 `keyerror`\n",
    "    - s.`discard`(x) `error` 안뜸\n",
    "    - s.`update`(*others) 여러 값을 추가\n",
    "    - s.`clear`() 모든 항목 제거\n",
    "    - s.`isdisjoint`(t) s와 t가 서로소\n",
    "    - s.`issubset`(t) s가 t의 하위 셋인 경우 `True`\n",
    "    - s.`issuperset`(t) s가 t의 상위 셋인 경우 `True`\n",
    "\n",
    "\n",
    "- 딕셔너리(`Dictionary`)\n",
    "  - 키-값(key-value) 쌍으로 이뤄진 자료형(3.7부터는 ordered)\n",
    "  - 키(`key`)\n",
    "    - key는 변경 불가능한 데이터(immutable)만 활용 가능\n",
    "      - `string, integer, float, boolean, tuple, range`\n",
    "  - 값(`value`)\n",
    "    - 어떠한 형태든 관계없음\n",
    "\n",
    "  - 딕셔너리 메서드(d는 딕셔너리)\n",
    "    - d.`clear`()\n",
    "    - d.`copy`() d의 얕은 복사본을 반환\n",
    "    - d.`keys`() d의 모든 키를 담은 뷰를 반환 *(뷰: 반복가능한 객체)\n",
    "    - d.`values`() d의 모든 값을 담은 뷰를 반환\n",
    "    - d.`item`() d의 모든 키-값의 쌍을 담은 뷰를 반환\n",
    "    - d.`get`(k) 키 k의 값을 반환하는데, k가 d에 없을 경우 `None`\n",
    "    - d.`get`(k, v) k의 값을 반환하는데, k가 d에 없을 경우 v를 반환\n",
    "    - d.`pop`(k) k의 값을 반환하고 k인 항목을 d에서 삭제하는데, k가 d에 없을 경우 `keyerror`\n",
    "    - d.`pop`(k, v) k의 값을 반환하고 k인 항목을 d에서 삭제하는데, k가 d에 없을 경우 v를 반환\n",
    "    - d.`update`([other]) d의 값을 매핑하여 업데이트\n",
    "\n",
    "- 얕은 복사와 깊은 복사(Shallow copy & Deep copy)\n",
    "\n",
    "  - 할당(Assignment)\n",
    "    - 대입 연산자(`=`): 해당 객체에 대한 객체 참조를 복사(`주소를 복사하는 것`)\n",
    "\n",
    "  - 얕은 복사(Shallow copy)\n",
    "    - Slice 연산자([:]): 같은 원소를 가진 리스트지만 연산된 결과를 복사(`다른 주소`)\n",
    "      - 리스트가 원소만을 가질 때 - 깊은 복사\n",
    "      - 리스트가 리스트(주소를 참조하는)인 원소를 가질 때 - 얕은 복사 \n",
    "    - 복사하는 리스트의 원소가 `주소를 참조하는 경우`(리스트 a가 `리스트인 원소`를 가질 때)\n",
    "```python\n",
    "a = [1,2,['a','b']]\n",
    "b = a[:]\n",
    "print(a,b) # [1,2,['a','b']] [1,2,['a','b']]\n",
    "b[2][0] = 0\n",
    "print(a,b) # [1,2,['0','b']] [1,2,['0','b']]\n",
    "```\n",
    "\n",
    "  - 깊은 복사(Deep copy)\n",
    "    - `copy.deepcopy(a)`\n",
    "```python\n",
    "import copy\n",
    "a = [1,2,['a','b']]\n",
    "b = copy.deepcopy(a)\n",
    "print(a,b) # [1,2,['a','b']] [1,2,['a','b']]\n",
    "b[2][0] = 0\n",
    "print(a,b) # [1,2,['a','b']] [1,2,[0,'b']]\n",
    "```"
   ]
  },
  {
   "cell_type": "code",
   "execution_count": 2,
   "metadata": {},
   "outputs": [
    {
     "name": "stdout",
     "output_type": "stream",
     "text": [
      "dict_keys(['apple', 'banana'])\n",
      "<class 'list'>\n"
     ]
    }
   ],
   "source": [
    "dic = {'apple': '사과', 'banana': '바나나'}\n",
    "print(dic.keys())"
   ]
  },
  {
   "cell_type": "code",
   "execution_count": 8,
   "metadata": {},
   "outputs": [
    {
     "name": "stdout",
     "output_type": "stream",
     "text": [
      "[11, 22, 55, 33, 66, 77]\n"
     ]
    }
   ],
   "source": [
    "sample_list = [11, 22, 33, 55, 66]\n",
    "#주어진 리스트의 4번째 자리에 있는 항목을 제거하고 변수에 할당해 주세요\n",
    "four = sample_list.pop(3)\n",
    "# print(sample_list)\n",
    "# print(four)\n",
    "\n",
    "#sample_list의 가장 뒤에 77을 추가해 주세요\n",
    "\n",
    "sample_list.append(77)\n",
    "\n",
    "#할당해 놓은 변수의 값을 sampe_list의 2번 index에 추가해 주세요\n",
    "\n",
    "sample_list.insert(2, four)\n",
    "print(sample_list)"
   ]
  },
  {
   "cell_type": "code",
   "execution_count": 9,
   "metadata": {},
   "outputs": [
    {
     "name": "stdout",
     "output_type": "stream",
     "text": [
      "(44, 55)\n"
     ]
    }
   ],
   "source": [
    "my_tuple = (11,22,33,44,55,66)\n",
    "\n",
    "# 주어진 튜플에서 44와 55의 값을 새로운 튜플에 할당해 주세요\n",
    "\n",
    "new_tuple = my_tuple[3:5]\n",
    "print(new_tuple)"
   ]
  },
  {
   "cell_type": "code",
   "execution_count": 3,
   "metadata": {},
   "outputs": [
    {
     "name": "stdout",
     "output_type": "stream",
     "text": [
      "[('eng', 88), ('sci', 90), ('math', 80)]\n",
      "[('math', 80), ('eng', 88), ('sci', 90)]\n"
     ]
    }
   ],
   "source": [
    "# test_list = [1,2,3,7,4,6,5]\n",
    "# test_list.sort()\n",
    "# print(test_list)\n",
    "\n",
    "scores = [('eng', 88), ('sci', 90), ('math', 80)]\n",
    "\n",
    "# def check(x):\n",
    "#     return x[1]\n",
    "    \n",
    "# 정렬\n",
    "print(scores)\n",
    "# scores.sort(key=check) \n",
    "scores.sort(key=lambda x: x[1])\n",
    "print(scores)"
   ]
  }
 ],
 "metadata": {
  "kernelspec": {
   "display_name": "Python 3",
   "language": "python",
   "name": "python3"
  },
  "language_info": {
   "codemirror_mode": {
    "name": "ipython",
    "version": 3
   },
   "file_extension": ".py",
   "mimetype": "text/x-python",
   "name": "python",
   "nbconvert_exporter": "python",
   "pygments_lexer": "ipython3",
   "version": "3.9.13"
  },
  "orig_nbformat": 4,
  "vscode": {
   "interpreter": {
    "hash": "c4b9ebf4ca459396e2ad1150752490c26670c1a037c08cad955a4425787bec2e"
   }
  }
 },
 "nbformat": 4,
 "nbformat_minor": 2
}
